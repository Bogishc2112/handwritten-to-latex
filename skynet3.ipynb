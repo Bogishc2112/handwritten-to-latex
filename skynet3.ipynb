{
  "nbformat": 4,
  "nbformat_minor": 0,
  "metadata": {
    "colab": {
      "name": "skynet3",
      "provenance": [],
      "toc_visible": true
    },
    "kernelspec": {
      "display_name": "Python 3",
      "name": "python3"
    }
  },
  "cells": [
    {
      "cell_type": "code",
      "metadata": {
        "id": "at95f3czUYF4"
      },
      "source": [
        ""
      ],
      "execution_count": null,
      "outputs": []
    },
    {
      "cell_type": "markdown",
      "metadata": {
        "id": "3hGW4l6VUUVl"
      },
      "source": [
        "##Preliminary actions"
      ]
    },
    {
      "cell_type": "markdown",
      "metadata": {
        "id": "WYTNdD2nloov"
      },
      "source": [
        "Before running the cells below you need to download the dataset from https://www.kaggle.com/xainano/handwrittenmathsymbols\n",
        "\n",
        "Extract files from 'archive.zip' and upload the 'data.rar' using cell below"
      ]
    },
    {
      "cell_type": "code",
      "metadata": {
        "colab": {
          "resources": {
            "http://localhost:8080/nbextensions/google.colab/files.js": {
              "data": "Ly8gQ29weXJpZ2h0IDIwMTcgR29vZ2xlIExMQwovLwovLyBMaWNlbnNlZCB1bmRlciB0aGUgQXBhY2hlIExpY2Vuc2UsIFZlcnNpb24gMi4wICh0aGUgIkxpY2Vuc2UiKTsKLy8geW91IG1heSBub3QgdXNlIHRoaXMgZmlsZSBleGNlcHQgaW4gY29tcGxpYW5jZSB3aXRoIHRoZSBMaWNlbnNlLgovLyBZb3UgbWF5IG9idGFpbiBhIGNvcHkgb2YgdGhlIExpY2Vuc2UgYXQKLy8KLy8gICAgICBodHRwOi8vd3d3LmFwYWNoZS5vcmcvbGljZW5zZXMvTElDRU5TRS0yLjAKLy8KLy8gVW5sZXNzIHJlcXVpcmVkIGJ5IGFwcGxpY2FibGUgbGF3IG9yIGFncmVlZCB0byBpbiB3cml0aW5nLCBzb2Z0d2FyZQovLyBkaXN0cmlidXRlZCB1bmRlciB0aGUgTGljZW5zZSBpcyBkaXN0cmlidXRlZCBvbiBhbiAiQVMgSVMiIEJBU0lTLAovLyBXSVRIT1VUIFdBUlJBTlRJRVMgT1IgQ09ORElUSU9OUyBPRiBBTlkgS0lORCwgZWl0aGVyIGV4cHJlc3Mgb3IgaW1wbGllZC4KLy8gU2VlIHRoZSBMaWNlbnNlIGZvciB0aGUgc3BlY2lmaWMgbGFuZ3VhZ2UgZ292ZXJuaW5nIHBlcm1pc3Npb25zIGFuZAovLyBsaW1pdGF0aW9ucyB1bmRlciB0aGUgTGljZW5zZS4KCi8qKgogKiBAZmlsZW92ZXJ2aWV3IEhlbHBlcnMgZm9yIGdvb2dsZS5jb2xhYiBQeXRob24gbW9kdWxlLgogKi8KKGZ1bmN0aW9uKHNjb3BlKSB7CmZ1bmN0aW9uIHNwYW4odGV4dCwgc3R5bGVBdHRyaWJ1dGVzID0ge30pIHsKICBjb25zdCBlbGVtZW50ID0gZG9jdW1lbnQuY3JlYXRlRWxlbWVudCgnc3BhbicpOwogIGVsZW1lbnQudGV4dENvbnRlbnQgPSB0ZXh0OwogIGZvciAoY29uc3Qga2V5IG9mIE9iamVjdC5rZXlzKHN0eWxlQXR0cmlidXRlcykpIHsKICAgIGVsZW1lbnQuc3R5bGVba2V5XSA9IHN0eWxlQXR0cmlidXRlc1trZXldOwogIH0KICByZXR1cm4gZWxlbWVudDsKfQoKLy8gTWF4IG51bWJlciBvZiBieXRlcyB3aGljaCB3aWxsIGJlIHVwbG9hZGVkIGF0IGEgdGltZS4KY29uc3QgTUFYX1BBWUxPQURfU0laRSA9IDEwMCAqIDEwMjQ7CgpmdW5jdGlvbiBfdXBsb2FkRmlsZXMoaW5wdXRJZCwgb3V0cHV0SWQpIHsKICBjb25zdCBzdGVwcyA9IHVwbG9hZEZpbGVzU3RlcChpbnB1dElkLCBvdXRwdXRJZCk7CiAgY29uc3Qgb3V0cHV0RWxlbWVudCA9IGRvY3VtZW50LmdldEVsZW1lbnRCeUlkKG91dHB1dElkKTsKICAvLyBDYWNoZSBzdGVwcyBvbiB0aGUgb3V0cHV0RWxlbWVudCB0byBtYWtlIGl0IGF2YWlsYWJsZSBmb3IgdGhlIG5leHQgY2FsbAogIC8vIHRvIHVwbG9hZEZpbGVzQ29udGludWUgZnJvbSBQeXRob24uCiAgb3V0cHV0RWxlbWVudC5zdGVwcyA9IHN0ZXBzOwoKICByZXR1cm4gX3VwbG9hZEZpbGVzQ29udGludWUob3V0cHV0SWQpOwp9CgovLyBUaGlzIGlzIHJvdWdobHkgYW4gYXN5bmMgZ2VuZXJhdG9yIChub3Qgc3VwcG9ydGVkIGluIHRoZSBicm93c2VyIHlldCksCi8vIHdoZXJlIHRoZXJlIGFyZSBtdWx0aXBsZSBhc3luY2hyb25vdXMgc3RlcHMgYW5kIHRoZSBQeXRob24gc2lkZSBpcyBnb2luZwovLyB0byBwb2xsIGZvciBjb21wbGV0aW9uIG9mIGVhY2ggc3RlcC4KLy8gVGhpcyB1c2VzIGEgUHJvbWlzZSB0byBibG9jayB0aGUgcHl0aG9uIHNpZGUgb24gY29tcGxldGlvbiBvZiBlYWNoIHN0ZXAsCi8vIHRoZW4gcGFzc2VzIHRoZSByZXN1bHQgb2YgdGhlIHByZXZpb3VzIHN0ZXAgYXMgdGhlIGlucHV0IHRvIHRoZSBuZXh0IHN0ZXAuCmZ1bmN0aW9uIF91cGxvYWRGaWxlc0NvbnRpbnVlKG91dHB1dElkKSB7CiAgY29uc3Qgb3V0cHV0RWxlbWVudCA9IGRvY3VtZW50LmdldEVsZW1lbnRCeUlkKG91dHB1dElkKTsKICBjb25zdCBzdGVwcyA9IG91dHB1dEVsZW1lbnQuc3RlcHM7CgogIGNvbnN0IG5leHQgPSBzdGVwcy5uZXh0KG91dHB1dEVsZW1lbnQubGFzdFByb21pc2VWYWx1ZSk7CiAgcmV0dXJuIFByb21pc2UucmVzb2x2ZShuZXh0LnZhbHVlLnByb21pc2UpLnRoZW4oKHZhbHVlKSA9PiB7CiAgICAvLyBDYWNoZSB0aGUgbGFzdCBwcm9taXNlIHZhbHVlIHRvIG1ha2UgaXQgYXZhaWxhYmxlIHRvIHRoZSBuZXh0CiAgICAvLyBzdGVwIG9mIHRoZSBnZW5lcmF0b3IuCiAgICBvdXRwdXRFbGVtZW50Lmxhc3RQcm9taXNlVmFsdWUgPSB2YWx1ZTsKICAgIHJldHVybiBuZXh0LnZhbHVlLnJlc3BvbnNlOwogIH0pOwp9CgovKioKICogR2VuZXJhdG9yIGZ1bmN0aW9uIHdoaWNoIGlzIGNhbGxlZCBiZXR3ZWVuIGVhY2ggYXN5bmMgc3RlcCBvZiB0aGUgdXBsb2FkCiAqIHByb2Nlc3MuCiAqIEBwYXJhbSB7c3RyaW5nfSBpbnB1dElkIEVsZW1lbnQgSUQgb2YgdGhlIGlucHV0IGZpbGUgcGlja2VyIGVsZW1lbnQuCiAqIEBwYXJhbSB7c3RyaW5nfSBvdXRwdXRJZCBFbGVtZW50IElEIG9mIHRoZSBvdXRwdXQgZGlzcGxheS4KICogQHJldHVybiB7IUl0ZXJhYmxlPCFPYmplY3Q+fSBJdGVyYWJsZSBvZiBuZXh0IHN0ZXBzLgogKi8KZnVuY3Rpb24qIHVwbG9hZEZpbGVzU3RlcChpbnB1dElkLCBvdXRwdXRJZCkgewogIGNvbnN0IGlucHV0RWxlbWVudCA9IGRvY3VtZW50LmdldEVsZW1lbnRCeUlkKGlucHV0SWQpOwogIGlucHV0RWxlbWVudC5kaXNhYmxlZCA9IGZhbHNlOwoKICBjb25zdCBvdXRwdXRFbGVtZW50ID0gZG9jdW1lbnQuZ2V0RWxlbWVudEJ5SWQob3V0cHV0SWQpOwogIG91dHB1dEVsZW1lbnQuaW5uZXJIVE1MID0gJyc7CgogIGNvbnN0IHBpY2tlZFByb21pc2UgPSBuZXcgUHJvbWlzZSgocmVzb2x2ZSkgPT4gewogICAgaW5wdXRFbGVtZW50LmFkZEV2ZW50TGlzdGVuZXIoJ2NoYW5nZScsIChlKSA9PiB7CiAgICAgIHJlc29sdmUoZS50YXJnZXQuZmlsZXMpOwogICAgfSk7CiAgfSk7CgogIGNvbnN0IGNhbmNlbCA9IGRvY3VtZW50LmNyZWF0ZUVsZW1lbnQoJ2J1dHRvbicpOwogIGlucHV0RWxlbWVudC5wYXJlbnRFbGVtZW50LmFwcGVuZENoaWxkKGNhbmNlbCk7CiAgY2FuY2VsLnRleHRDb250ZW50ID0gJ0NhbmNlbCB1cGxvYWQnOwogIGNvbnN0IGNhbmNlbFByb21pc2UgPSBuZXcgUHJvbWlzZSgocmVzb2x2ZSkgPT4gewogICAgY2FuY2VsLm9uY2xpY2sgPSAoKSA9PiB7CiAgICAgIHJlc29sdmUobnVsbCk7CiAgICB9OwogIH0pOwoKICAvLyBXYWl0IGZvciB0aGUgdXNlciB0byBwaWNrIHRoZSBmaWxlcy4KICBjb25zdCBmaWxlcyA9IHlpZWxkIHsKICAgIHByb21pc2U6IFByb21pc2UucmFjZShbcGlja2VkUHJvbWlzZSwgY2FuY2VsUHJvbWlzZV0pLAogICAgcmVzcG9uc2U6IHsKICAgICAgYWN0aW9uOiAnc3RhcnRpbmcnLAogICAgfQogIH07CgogIGNhbmNlbC5yZW1vdmUoKTsKCiAgLy8gRGlzYWJsZSB0aGUgaW5wdXQgZWxlbWVudCBzaW5jZSBmdXJ0aGVyIHBpY2tzIGFyZSBub3QgYWxsb3dlZC4KICBpbnB1dEVsZW1lbnQuZGlzYWJsZWQgPSB0cnVlOwoKICBpZiAoIWZpbGVzKSB7CiAgICByZXR1cm4gewogICAgICByZXNwb25zZTogewogICAgICAgIGFjdGlvbjogJ2NvbXBsZXRlJywKICAgICAgfQogICAgfTsKICB9CgogIGZvciAoY29uc3QgZmlsZSBvZiBmaWxlcykgewogICAgY29uc3QgbGkgPSBkb2N1bWVudC5jcmVhdGVFbGVtZW50KCdsaScpOwogICAgbGkuYXBwZW5kKHNwYW4oZmlsZS5uYW1lLCB7Zm9udFdlaWdodDogJ2JvbGQnfSkpOwogICAgbGkuYXBwZW5kKHNwYW4oCiAgICAgICAgYCgke2ZpbGUudHlwZSB8fCAnbi9hJ30pIC0gJHtmaWxlLnNpemV9IGJ5dGVzLCBgICsKICAgICAgICBgbGFzdCBtb2RpZmllZDogJHsKICAgICAgICAgICAgZmlsZS5sYXN0TW9kaWZpZWREYXRlID8gZmlsZS5sYXN0TW9kaWZpZWREYXRlLnRvTG9jYWxlRGF0ZVN0cmluZygpIDoKICAgICAgICAgICAgICAgICAgICAgICAgICAgICAgICAgICAgJ24vYSd9IC0gYCkpOwogICAgY29uc3QgcGVyY2VudCA9IHNwYW4oJzAlIGRvbmUnKTsKICAgIGxpLmFwcGVuZENoaWxkKHBlcmNlbnQpOwoKICAgIG91dHB1dEVsZW1lbnQuYXBwZW5kQ2hpbGQobGkpOwoKICAgIGNvbnN0IGZpbGVEYXRhUHJvbWlzZSA9IG5ldyBQcm9taXNlKChyZXNvbHZlKSA9PiB7CiAgICAgIGNvbnN0IHJlYWRlciA9IG5ldyBGaWxlUmVhZGVyKCk7CiAgICAgIHJlYWRlci5vbmxvYWQgPSAoZSkgPT4gewogICAgICAgIHJlc29sdmUoZS50YXJnZXQucmVzdWx0KTsKICAgICAgfTsKICAgICAgcmVhZGVyLnJlYWRBc0FycmF5QnVmZmVyKGZpbGUpOwogICAgfSk7CiAgICAvLyBXYWl0IGZvciB0aGUgZGF0YSB0byBiZSByZWFkeS4KICAgIGxldCBmaWxlRGF0YSA9IHlpZWxkIHsKICAgICAgcHJvbWlzZTogZmlsZURhdGFQcm9taXNlLAogICAgICByZXNwb25zZTogewogICAgICAgIGFjdGlvbjogJ2NvbnRpbnVlJywKICAgICAgfQogICAgfTsKCiAgICAvLyBVc2UgYSBjaHVua2VkIHNlbmRpbmcgdG8gYXZvaWQgbWVzc2FnZSBzaXplIGxpbWl0cy4gU2VlIGIvNjIxMTU2NjAuCiAgICBsZXQgcG9zaXRpb24gPSAwOwogICAgd2hpbGUgKHBvc2l0aW9uIDwgZmlsZURhdGEuYnl0ZUxlbmd0aCkgewogICAgICBjb25zdCBsZW5ndGggPSBNYXRoLm1pbihmaWxlRGF0YS5ieXRlTGVuZ3RoIC0gcG9zaXRpb24sIE1BWF9QQVlMT0FEX1NJWkUpOwogICAgICBjb25zdCBjaHVuayA9IG5ldyBVaW50OEFycmF5KGZpbGVEYXRhLCBwb3NpdGlvbiwgbGVuZ3RoKTsKICAgICAgcG9zaXRpb24gKz0gbGVuZ3RoOwoKICAgICAgY29uc3QgYmFzZTY0ID0gYnRvYShTdHJpbmcuZnJvbUNoYXJDb2RlLmFwcGx5KG51bGwsIGNodW5rKSk7CiAgICAgIHlpZWxkIHsKICAgICAgICByZXNwb25zZTogewogICAgICAgICAgYWN0aW9uOiAnYXBwZW5kJywKICAgICAgICAgIGZpbGU6IGZpbGUubmFtZSwKICAgICAgICAgIGRhdGE6IGJhc2U2NCwKICAgICAgICB9LAogICAgICB9OwogICAgICBwZXJjZW50LnRleHRDb250ZW50ID0KICAgICAgICAgIGAke01hdGgucm91bmQoKHBvc2l0aW9uIC8gZmlsZURhdGEuYnl0ZUxlbmd0aCkgKiAxMDApfSUgZG9uZWA7CiAgICB9CiAgfQoKICAvLyBBbGwgZG9uZS4KICB5aWVsZCB7CiAgICByZXNwb25zZTogewogICAgICBhY3Rpb246ICdjb21wbGV0ZScsCiAgICB9CiAgfTsKfQoKc2NvcGUuZ29vZ2xlID0gc2NvcGUuZ29vZ2xlIHx8IHt9OwpzY29wZS5nb29nbGUuY29sYWIgPSBzY29wZS5nb29nbGUuY29sYWIgfHwge307CnNjb3BlLmdvb2dsZS5jb2xhYi5fZmlsZXMgPSB7CiAgX3VwbG9hZEZpbGVzLAogIF91cGxvYWRGaWxlc0NvbnRpbnVlLAp9Owp9KShzZWxmKTsK",
              "ok": true,
              "headers": [
                [
                  "content-type",
                  "application/javascript"
                ]
              ],
              "status": 200,
              "status_text": ""
            }
          },
          "base_uri": "https://localhost:8080/",
          "height": 73
        },
        "id": "JX-5eFrDHAXF",
        "outputId": "592b0e43-081e-473e-caf3-7788d8979743"
      },
      "source": [
        "from google.colab import files\n",
        "uploaded = files.upload()"
      ],
      "execution_count": null,
      "outputs": [
        {
          "output_type": "display_data",
          "data": {
            "text/html": [
              "\n",
              "     <input type=\"file\" id=\"files-f27732fe-7725-4c1a-a134-98c9f7560d8c\" name=\"files[]\" multiple disabled\n",
              "        style=\"border:none\" />\n",
              "     <output id=\"result-f27732fe-7725-4c1a-a134-98c9f7560d8c\">\n",
              "      Upload widget is only available when the cell has been executed in the\n",
              "      current browser session. Please rerun this cell to enable.\n",
              "      </output>\n",
              "      <script src=\"/nbextensions/google.colab/files.js\"></script> "
            ],
            "text/plain": [
              "<IPython.core.display.HTML object>"
            ]
          },
          "metadata": {
            "tags": []
          }
        },
        {
          "output_type": "stream",
          "text": [
            "Saving data.rar to data.rar\n"
          ],
          "name": "stdout"
        }
      ]
    },
    {
      "cell_type": "code",
      "metadata": {
        "id": "fb8mKajf7upQ"
      },
      "source": [
        "import numpy as np\n",
        "import matplotlib.pyplot as plt\n",
        "import torch\n",
        "import torch.nn as nn\n",
        "import torch.nn.functional as F\n",
        "import torchvision\n",
        "import torchvision.transforms as transforms\n",
        "import torch.optim as optim\n",
        "import torchvision.transforms.functional as TF\n",
        "import time\n",
        "import os"
      ],
      "execution_count": null,
      "outputs": []
    },
    {
      "cell_type": "code",
      "metadata": {
        "id": "jXUBsa_K9iWB"
      },
      "source": [
        "os.mkdir('/content/data')"
      ],
      "execution_count": null,
      "outputs": []
    },
    {
      "cell_type": "code",
      "metadata": {
        "colab": {
          "base_uri": "https://localhost:8080/",
          "height": 374
        },
        "id": "5iijLktA-ftO",
        "outputId": "2b969a70-6215-4ca8-b324-231d857756f1"
      },
      "source": [
        "!pip install pyunpack\n",
        "!pip install patool\n",
        "from pyunpack import Archive\n",
        "Archive('/content/data.rar').extractall('/content/data')"
      ],
      "execution_count": null,
      "outputs": [
        {
          "output_type": "stream",
          "text": [
            "Collecting pyunpack\n",
            "  Downloading https://files.pythonhosted.org/packages/83/29/020436b1d8e96e5f26fa282b9c3c13a3b456a36b9ea2edc87c5fed008369/pyunpack-0.2.2-py2.py3-none-any.whl\n",
            "Collecting easyprocess\n",
            "  Downloading https://files.pythonhosted.org/packages/48/3c/75573613641c90c6d094059ac28adb748560d99bd27ee6f80cce398f404e/EasyProcess-0.3-py2.py3-none-any.whl\n",
            "Collecting entrypoint2\n",
            "  Downloading https://files.pythonhosted.org/packages/c2/ca/00c8767568924e5c2209da99b6abdeeed9d11cbae2a713d54d041b092a09/entrypoint2-0.2.3-py2.py3-none-any.whl\n",
            "Collecting argparse\n",
            "  Downloading https://files.pythonhosted.org/packages/f2/94/3af39d34be01a24a6e65433d19e107099374224905f1e0cc6bbe1fd22a2f/argparse-1.4.0-py2.py3-none-any.whl\n",
            "Installing collected packages: easyprocess, argparse, entrypoint2, pyunpack\n",
            "Successfully installed argparse-1.4.0 easyprocess-0.3 entrypoint2-0.2.3 pyunpack-0.2.2\n"
          ],
          "name": "stdout"
        },
        {
          "output_type": "display_data",
          "data": {
            "application/vnd.colab-display-data+json": {
              "pip_warning": {
                "packages": [
                  "argparse"
                ]
              }
            }
          },
          "metadata": {
            "tags": []
          }
        },
        {
          "output_type": "stream",
          "text": [
            "Collecting patool\n",
            "\u001b[?25l  Downloading https://files.pythonhosted.org/packages/43/94/52243ddff508780dd2d8110964320ab4851134a55ab102285b46e740f76a/patool-1.12-py2.py3-none-any.whl (77kB)\n",
            "\r\u001b[K     |████▎                           | 10kB 20.0MB/s eta 0:00:01\r\u001b[K     |████████▌                       | 20kB 25.3MB/s eta 0:00:01\r\u001b[K     |████████████▊                   | 30kB 30.4MB/s eta 0:00:01\r\u001b[K     |█████████████████               | 40kB 21.1MB/s eta 0:00:01\r\u001b[K     |█████████████████████▏          | 51kB 17.2MB/s eta 0:00:01\r\u001b[K     |█████████████████████████▍      | 61kB 14.0MB/s eta 0:00:01\r\u001b[K     |█████████████████████████████▋  | 71kB 15.0MB/s eta 0:00:01\r\u001b[K     |████████████████████████████████| 81kB 5.6MB/s \n",
            "\u001b[?25hInstalling collected packages: patool\n",
            "Successfully installed patool-1.12\n"
          ],
          "name": "stdout"
        }
      ]
    },
    {
      "cell_type": "markdown",
      "metadata": {
        "id": "LwVkLHLFVBsc"
      },
      "source": [
        "##Hyperparameters"
      ]
    },
    {
      "cell_type": "code",
      "metadata": {
        "id": "TW3eORg7_B9X"
      },
      "source": [
        "#hyperparameters\n",
        "batch_size = 64\n",
        "epochCount = 20\n",
        "learningRate = 0.0005\n",
        "batchrow = int(batch_size / 8)"
      ],
      "execution_count": null,
      "outputs": []
    },
    {
      "cell_type": "markdown",
      "metadata": {
        "id": "mg4wViWFUf-x"
      },
      "source": [
        "##Preparation and overview of dataset"
      ]
    },
    {
      "cell_type": "code",
      "metadata": {
        "id": "HC4H_PaN8Q4M"
      },
      "source": [
        "# import the handwrittenmathsymbols set using the ImageFolder dataset class\n",
        "dataset_util = torchvision.datasets.ImageFolder(root='/content/data/extracted_images', transform=transforms.ToTensor())\n",
        "\n",
        "# dataloaders \"represent a Python iterable over a dataset\"\n",
        "dataloader = torch.utils.data.DataLoader(dataset_util, batch_size=batch_size, num_workers=2, shuffle=True)"
      ],
      "execution_count": null,
      "outputs": []
    },
    {
      "cell_type": "code",
      "metadata": {
        "colab": {
          "base_uri": "https://localhost:8080/",
          "height": 470
        },
        "id": "3rMUv34E_vK9",
        "outputId": "8b499872-a11e-46c8-f0b1-09509496ad6f"
      },
      "source": [
        "iter_test = iter(dataloader)\n",
        "img, lbl = iter_test.next()\n",
        "display(img[0], lbl)"
      ],
      "execution_count": null,
      "outputs": [
        {
          "output_type": "display_data",
          "data": {
            "text/plain": [
              "tensor([[[1.0000, 1.0000, 1.0000,  ..., 1.0000, 1.0000, 1.0000],\n",
              "         [1.0000, 1.0000, 1.0000,  ..., 1.0000, 1.0000, 1.0000],\n",
              "         [1.0000, 1.0000, 1.0000,  ..., 1.0000, 1.0000, 1.0000],\n",
              "         ...,\n",
              "         [1.0000, 1.0000, 1.0000,  ..., 1.0000, 1.0000, 0.9961],\n",
              "         [1.0000, 1.0000, 1.0000,  ..., 0.9961, 1.0000, 1.0000],\n",
              "         [1.0000, 1.0000, 1.0000,  ..., 0.9882, 1.0000, 0.9922]],\n",
              "\n",
              "        [[1.0000, 1.0000, 1.0000,  ..., 1.0000, 1.0000, 1.0000],\n",
              "         [1.0000, 1.0000, 1.0000,  ..., 1.0000, 1.0000, 1.0000],\n",
              "         [1.0000, 1.0000, 1.0000,  ..., 1.0000, 1.0000, 1.0000],\n",
              "         ...,\n",
              "         [1.0000, 1.0000, 1.0000,  ..., 1.0000, 1.0000, 0.9961],\n",
              "         [1.0000, 1.0000, 1.0000,  ..., 0.9961, 1.0000, 1.0000],\n",
              "         [1.0000, 1.0000, 1.0000,  ..., 0.9882, 1.0000, 0.9922]],\n",
              "\n",
              "        [[1.0000, 1.0000, 1.0000,  ..., 1.0000, 1.0000, 1.0000],\n",
              "         [1.0000, 1.0000, 1.0000,  ..., 1.0000, 1.0000, 1.0000],\n",
              "         [1.0000, 1.0000, 1.0000,  ..., 1.0000, 1.0000, 1.0000],\n",
              "         ...,\n",
              "         [1.0000, 1.0000, 1.0000,  ..., 1.0000, 1.0000, 0.9961],\n",
              "         [1.0000, 1.0000, 1.0000,  ..., 0.9961, 1.0000, 1.0000],\n",
              "         [1.0000, 1.0000, 1.0000,  ..., 0.9882, 1.0000, 0.9922]]])"
            ]
          },
          "metadata": {
            "tags": []
          }
        },
        {
          "output_type": "display_data",
          "data": {
            "text/plain": [
              "tensor([27, 21, 10, 60, 27,  8, 27,  2, 73,  8,  2,  7, 34, 67,  2,  6, 16, 34,\n",
              "         7,  7,  8,  8, 11, 16, 10, 11,  5,  3,  7, 78, 32, 49,  5,  5, 17,  7,\n",
              "        35, 72, 78,  2, 39,  1,  8,  8, 53,  9, 69, 56, 23, 79, 16, 27, 78,  8,\n",
              "        56,  8, 27,  9, 10, 16, 27, 70,  2, 23])"
            ]
          },
          "metadata": {
            "tags": []
          }
        }
      ]
    },
    {
      "cell_type": "code",
      "metadata": {
        "colab": {
          "base_uri": "https://localhost:8080/"
        },
        "id": "bJa0Ktrh8oJc",
        "outputId": "00c6c160-a926-4c23-d864-69f1c1aae3a1"
      },
      "source": [
        "mean = 0.\n",
        "std = 0.\n",
        "\n",
        "for batch_idx, data in enumerate(dataloader, 0):\n",
        "    image, label = data\n",
        "    batchSize = image.size(0)\n",
        "    image = image.view(batchSize, image.size(1), -1)\n",
        "    mean += image.mean(2).sum(0)\n",
        "    std += image.std(2).sum(0)\n",
        "  \n",
        "mean /= len(dataset_util)\n",
        "std /= len(dataset_util)\n",
        "print(mean, std)"
      ],
      "execution_count": null,
      "outputs": [
        {
          "output_type": "stream",
          "text": [
            "tensor([0.9563, 0.9563, 0.9563]) tensor([0.1990, 0.1990, 0.1990])\n"
          ],
          "name": "stdout"
        }
      ]
    },
    {
      "cell_type": "code",
      "metadata": {
        "id": "qiV4VP2w84pe"
      },
      "source": [
        "# taken from https://stackoverflow.com/a/56512552\n",
        "def imshow(image, ax=None):\n",
        "  \"\"\"Imshow for Tensor.\"\"\"\n",
        "  if ax is None:\n",
        "      fig, ax = plt.subplots()\n",
        "  image = image.numpy().transpose((1, 2, 0))\n",
        "\n",
        "  ax.imshow(image)\n",
        "  ax.spines['top'].set_visible(False)\n",
        "  ax.spines['right'].set_visible(False)\n",
        "  ax.spines['left'].set_visible(False)\n",
        "  ax.spines['bottom'].set_visible(False)\n",
        "  ax.tick_params(axis='both', length=0)\n",
        "  ax.set_xticklabels('')\n",
        "  ax.set_yticklabels('')\n",
        "\n",
        "  return ax"
      ],
      "execution_count": null,
      "outputs": []
    },
    {
      "cell_type": "code",
      "metadata": {
        "id": "fKBdooFVCBfW"
      },
      "source": [
        "classes = ('!','(',')','+',',','-','0','1','2','3','4','5','6','7','8','9',\n",
        "           '=','A','C','Delta','G','H','M','N','R','S','T','X','[',']','alpha',\n",
        "           'ascii_24','b','beta','cos','d','div','e','exists','f','forall',\n",
        "           'forward_slash','gamma','geq','gt','i','in','infty','int','j','k',\n",
        "           'l','lambda','ldots','leq','lim','log','lt','mu','neq','o','p',\n",
        "           'phi','pi','pm','prime','q','rightarrow','sigma','sin','sqrt','sum',\n",
        "           'tan','theta','times','u','v','w','y','z','{','}')\n",
        "#some comments on classes:\n",
        "\n",
        "#ascii 124 --- '|'\n",
        "#div --- '%' or '/' or ':'\n",
        "#forward_slash --- '/'\n",
        "#geq --- '>='\n",
        "#leq --- '<='\n",
        "#neq --- '!='\n",
        "#gt --- '>'\n",
        "#lt --- '<'\n",
        "#pm --- '+-'\n",
        "#int --- integration symbol\n",
        "#ldots --- '...'\n",
        "#prime --- ???\n",
        "#forall, exists, in --- mathematical logic, set theory"
      ],
      "execution_count": null,
      "outputs": []
    },
    {
      "cell_type": "code",
      "metadata": {
        "colab": {
          "base_uri": "https://localhost:8080/"
        },
        "id": "4IsBl1omMk6p",
        "outputId": "8280b720-251e-48b9-ca2f-4edb0efd9ef4"
      },
      "source": [
        "classlen = len(classes)\n",
        "classlen"
      ],
      "execution_count": null,
      "outputs": [
        {
          "output_type": "execute_result",
          "data": {
            "text/plain": [
              "82"
            ]
          },
          "metadata": {
            "tags": []
          },
          "execution_count": 45
        }
      ]
    },
    {
      "cell_type": "code",
      "metadata": {
        "colab": {
          "base_uri": "https://localhost:8080/",
          "height": 517
        },
        "id": "G3kHLe-N-x5G",
        "outputId": "f1a441d1-612f-425c-e5c2-5d65a37c5939"
      },
      "source": [
        "# show grid of images from dataset\n",
        "images, labels = next(iter(dataloader))\n",
        "\n",
        "imshow(torchvision.utils.make_grid(images, nrow=8))\n",
        "\n",
        "for k in range(batchrow):\n",
        "  print('\\t'.join('%5s' % classes[labels[j]] for j in range(8 * k, 8 * k + 8)),end='\\n\\n')\n",
        "  k += 1"
      ],
      "execution_count": null,
      "outputs": [
        {
          "output_type": "stream",
          "text": [
            "    +\t    A\t    T\t  sum\t    ]\t    -\t    1\t    T\n",
            "\n",
            "    2\t    )\t    y\t    )\t    0\t    1\t    -\t    H\n",
            "\n",
            "    1\t    (\t    N\t    z\t    k\t    +\t    X\t    2\n",
            "\n",
            "    1\t  log\t    y\t    +\t   pi\t    X\t    N\t  cos\n",
            "\n",
            "    q\t    N\t    e\t    3\t    X\t  sum\t    f\t    3\n",
            "\n",
            "    (\t  neq\t    6\t    +\t    +\t    1\t    2\t    )\n",
            "\n",
            "    e\t    d\t    =\t    X\t    X\tascii_24\t    ,\t    2\n",
            "\n",
            "    +\t  sin\t    y\t    b\t    1\t    N\t    y\t  log\n",
            "\n"
          ],
          "name": "stdout"
        },
        {
          "output_type": "display_data",
          "data": {
            "image/png": "[encoded data removed]",
            "text/plain": [
              "<Figure size 432x288 with 1 Axes>"
            ]
          },
          "metadata": {
            "tags": []
          }
        }
      ]
    },
    {
      "cell_type": "code",
      "metadata": {
        "colab": {
          "base_uri": "https://localhost:8080/"
        },
        "id": "nixwqUhL-2tJ",
        "outputId": "48e6fd50-a818-496c-d7df-4387aaf904d4"
      },
      "source": [
        "datalen = len(dataset_util)\n",
        "print(datalen)"
      ],
      "execution_count": null,
      "outputs": [
        {
          "output_type": "stream",
          "text": [
            "375974\n"
          ],
          "name": "stdout"
        }
      ]
    },
    {
      "cell_type": "code",
      "metadata": {
        "colab": {
          "base_uri": "https://localhost:8080/"
        },
        "id": "gJOxNqUTK87o",
        "outputId": "de10e435-622a-4d7b-bfcd-fbb10b7072c3"
      },
      "source": [
        "mean, std"
      ],
      "execution_count": null,
      "outputs": [
        {
          "output_type": "execute_result",
          "data": {
            "text/plain": [
              "(tensor([0.9563, 0.9563, 0.9563]), tensor([0.1990, 0.1990, 0.1990]))"
            ]
          },
          "metadata": {
            "tags": []
          },
          "execution_count": 50
        }
      ]
    },
    {
      "cell_type": "code",
      "metadata": {
        "id": "pxxMFQTXISO4"
      },
      "source": [
        "dataset = torchvision.datasets.ImageFolder(root='/content/data/extracted_images', transform=\n",
        "                                           transforms.Compose([transforms.ToTensor(),transforms.Normalize(mean, std)]))\n",
        "trainlen = int(datalen * 0.6)\n",
        "evallen = datalen - trainlen\n",
        "\n",
        "trainset, evalset = torch.utils.data.random_split(dataset, [trainlen, evallen])\n",
        "vallen = int(evallen / 2)\n",
        "testlen = evallen - vallen\n",
        "\n",
        "valset, testset  = torch.utils.data.random_split(evalset, [vallen, testlen])\n",
        "\n",
        "trainloader = torch.utils.data.DataLoader(trainset, batch_size=batch_size, shuffle=True, num_workers=2)\n",
        "valloader = torch.utils.data.DataLoader(valset, batch_size=int(batch_size / 3), shuffle=True, num_workers=2)\n",
        "testloader = torch.utils.data.DataLoader(testset, batch_size=int(batch_size / 3), shuffle=False, num_workers=2)"
      ],
      "execution_count": null,
      "outputs": []
    },
    {
      "cell_type": "code",
      "metadata": {
        "colab": {
          "base_uri": "https://localhost:8080/"
        },
        "id": "JT1ZUF32LhTV",
        "outputId": "7a305530-5339-4cc8-85dd-82f2eb8da7b7"
      },
      "source": [
        "print(len(trainset))\n",
        "print(len(valset))\n",
        "print(len(testset))"
      ],
      "execution_count": null,
      "outputs": [
        {
          "output_type": "stream",
          "text": [
            "225584\n",
            "75195\n",
            "75195\n"
          ],
          "name": "stdout"
        }
      ]
    },
    {
      "cell_type": "code",
      "metadata": {
        "colab": {
          "base_uri": "https://localhost:8080/"
        },
        "id": "AmZ_HSIyMyLM",
        "outputId": "c9c08751-f1fd-4a6f-f455-5562a2a22d30"
      },
      "source": [
        "image,_ = iter(trainloader).next()\n",
        "image.size()"
      ],
      "execution_count": null,
      "outputs": [
        {
          "output_type": "execute_result",
          "data": {
            "text/plain": [
              "torch.Size([64, 3, 45, 45])"
            ]
          },
          "metadata": {
            "tags": []
          },
          "execution_count": 23
        }
      ]
    },
    {
      "cell_type": "code",
      "metadata": {
        "colab": {
          "base_uri": "https://localhost:8080/",
          "height": 282
        },
        "id": "ZjZ70TzKOh6W",
        "outputId": "967dcfec-97e1-4cf9-f557-92b17cb45188"
      },
      "source": [
        "imshow(image[0])"
      ],
      "execution_count": null,
      "outputs": [
        {
          "output_type": "stream",
          "text": [
            "Clipping input data to the valid range for imshow with RGB data ([0..1] for floats or [0..255] for integers).\n"
          ],
          "name": "stderr"
        },
        {
          "output_type": "execute_result",
          "data": {
            "text/plain": [
              "<matplotlib.axes._subplots.AxesSubplot at 0x7fa05cfb47f0>"
            ]
          },
          "metadata": {
            "tags": []
          },
          "execution_count": 24
        },
        {
          "output_type": "display_data",
          "data": {
            "image/png": "[encoded data removed]",
            "text/plain": [
              "<Figure size 432x288 with 1 Axes>"
            ]
          },
          "metadata": {
            "tags": []
          }
        }
      ]
    },
    {
      "cell_type": "code",
      "metadata": {
        "colab": {
          "base_uri": "https://localhost:8080/"
        },
        "id": "VU_RUBOMi3tS",
        "outputId": "66a5f5b3-f20e-44ec-f7f8-6c55cab4864c"
      },
      "source": [
        "print(len(trainset))\n",
        "print(len(valset))\n",
        "print(len(testset))\n",
        "epoch_count_train = int(len(trainset) / batch_size)\n",
        "epoch_count_val = int(5 * len(valset) / batch_size)\n",
        "print(epoch_count_train)\n",
        "print(epoch_count_val)"
      ],
      "execution_count": null,
      "outputs": [
        {
          "output_type": "stream",
          "text": [
            "225584\n",
            "75195\n",
            "75195\n",
            "3524\n",
            "5874\n"
          ],
          "name": "stdout"
        }
      ]
    },
    {
      "cell_type": "markdown",
      "metadata": {
        "id": "BU0nFFLtUn7_"
      },
      "source": [
        "##Model initialization"
      ]
    },
    {
      "cell_type": "code",
      "metadata": {
        "id": "8YA2f5XZMVWT"
      },
      "source": [
        "class skynet3(nn.Module):\n",
        "  def __init__(self):\n",
        "    super(skynet3, self).__init__()\n",
        "\n",
        "    self.conv1 = nn.Conv2d(3, 8, 3) # input, output, kernel\n",
        "    self.conv2 = nn.Conv2d(8, 16, 3)\n",
        "    self.conv3 = nn.Conv2d(16, 32, 3)\n",
        "    self.conv4 = nn.Conv2d(32, 128, 4)\n",
        "\n",
        "    self.pool1 = nn.MaxPool2d(2, 2, 1) #kernel, stride, padding\n",
        "    self.pool2 = nn.MaxPool2d(2, 2)\n",
        "    self.pool3 = nn.MaxPool2d(2, 2)\n",
        "\n",
        "    self.fc1 = nn.Linear(128, 128)\n",
        "    self.fc2 = nn.Linear(128, 82)\n",
        "\n",
        "    torch.nn.init.xavier_uniform_(self.conv1.weight)\n",
        "    torch.nn.init.xavier_uniform_(self.conv2.weight)\n",
        "    torch.nn.init.xavier_uniform_(self.conv3.weight)\n",
        "    torch.nn.init.xavier_uniform_(self.conv4.weight)\n",
        "    torch.nn.init.xavier_uniform_(self.fc1.weight)\n",
        "    torch.nn.init.xavier_uniform_(self.fc2.weight)\n",
        "    \n",
        "  def forward(self, x):\n",
        "    x = F.relu(self.conv1(x))\n",
        "    x = self.pool1(x)\n",
        "    x = F.relu(self.conv2(x))\n",
        "    x = self.pool2(x)\n",
        "    x = F.relu(self.conv3(x))\n",
        "    x = self.pool3(x)\n",
        "    x = F.relu(self.conv4(x))\n",
        "    x = x.view(-1, 128)\n",
        "    x = self.fc1(x)\n",
        "    x = F.relu(x)\n",
        "    x = self.fc2(x)\n",
        "    return x\n",
        "\n",
        "net = skynet3()"
      ],
      "execution_count": null,
      "outputs": []
    },
    {
      "cell_type": "code",
      "metadata": {
        "colab": {
          "base_uri": "https://localhost:8080/"
        },
        "id": "mriQykrqFuWj",
        "outputId": "1e9c4ed6-0b7f-49ff-9252-b0de08e2afb3"
      },
      "source": [
        "net"
      ],
      "execution_count": null,
      "outputs": [
        {
          "output_type": "execute_result",
          "data": {
            "text/plain": [
              "skynet3(\n",
              "  (conv1): Conv2d(3, 8, kernel_size=(3, 3), stride=(1, 1))\n",
              "  (conv2): Conv2d(8, 16, kernel_size=(3, 3), stride=(1, 1))\n",
              "  (conv3): Conv2d(16, 32, kernel_size=(3, 3), stride=(1, 1))\n",
              "  (conv4): Conv2d(32, 128, kernel_size=(4, 4), stride=(1, 1))\n",
              "  (pool1): MaxPool2d(kernel_size=2, stride=2, padding=1, dilation=1, ceil_mode=False)\n",
              "  (pool2): MaxPool2d(kernel_size=2, stride=2, padding=0, dilation=1, ceil_mode=False)\n",
              "  (pool3): MaxPool2d(kernel_size=2, stride=2, padding=0, dilation=1, ceil_mode=False)\n",
              "  (fc1): Linear(in_features=128, out_features=128, bias=True)\n",
              "  (fc2): Linear(in_features=128, out_features=82, bias=True)\n",
              ")"
            ]
          },
          "metadata": {
            "tags": []
          },
          "execution_count": 72
        }
      ]
    },
    {
      "cell_type": "code",
      "metadata": {
        "colab": {
          "base_uri": "https://localhost:8080/"
        },
        "id": "MjemiTxQQ_fE",
        "outputId": "b3ca6387-f3b2-4e31-f149-ba9d1f923490"
      },
      "source": [
        "params = list(net.parameters())\n",
        "print(len(params))\n",
        "for i in range(10):\n",
        "  print(params[i].size())"
      ],
      "execution_count": null,
      "outputs": [
        {
          "output_type": "stream",
          "text": [
            "12\n",
            "torch.Size([8, 3, 3, 3])\n",
            "torch.Size([8])\n",
            "torch.Size([16, 8, 3, 3])\n",
            "torch.Size([16])\n",
            "torch.Size([32, 16, 3, 3])\n",
            "torch.Size([32])\n",
            "torch.Size([128, 32, 4, 4])\n",
            "torch.Size([128])\n",
            "torch.Size([128, 128])\n",
            "torch.Size([128])\n"
          ],
          "name": "stdout"
        }
      ]
    },
    {
      "cell_type": "code",
      "metadata": {
        "id": "6wIGvoBRRDo1"
      },
      "source": [
        "criterion = nn.CrossEntropyLoss()\n",
        "optimizer = optim.Adam(params, lr = learningRate, betas = (0.9,0.999), eps = 1e-6)"
      ],
      "execution_count": null,
      "outputs": []
    },
    {
      "cell_type": "markdown",
      "metadata": {
        "id": "z0w6_WzPUrds"
      },
      "source": [
        "##Model training"
      ]
    },
    {
      "cell_type": "code",
      "metadata": {
        "colab": {
          "base_uri": "https://localhost:8080/"
        },
        "id": "K4I83ReVRkLk",
        "outputId": "e0d36fda-5004-429c-f02d-6c1c71effea5"
      },
      "source": [
        "tloss_plt = []\n",
        "train_acc_plot = []\n",
        "correct_train = 0.0\n",
        "total_train = 0.0\n",
        "\n",
        "vloss_plt = []\n",
        "val_acc_plot = []\n",
        "correct_val = 0.0\n",
        "total_val = 0.0\n",
        "\n",
        "\n",
        "for epoch in range(epochCount):\n",
        "\n",
        "    running_tloss = 0.0\n",
        "    running_vloss = 0.0\n",
        "    avg_perbatch_acc_train = 0.0\n",
        "    avg_perbatch_acc_val = 0.0\n",
        "    start = time.time()\n",
        "\n",
        "    print('epoch', epoch + 1)\n",
        "\n",
        "    net.train(mode=True)\n",
        "    print('training cycle')\n",
        "    for i, data in enumerate(trainloader, 0):\n",
        "      inputs, labels = data\n",
        "\n",
        "      optimizer.zero_grad()\n",
        "\n",
        "      outputs = net(inputs)\n",
        "      loss = criterion(outputs, labels)\n",
        "      loss.backward()\n",
        "      optimizer.step()\n",
        "\n",
        "      perbatch_acc_train = 0.0\n",
        "      _, predicted_train = torch.max(outputs.data, 1)\n",
        "      total_train += labels.size(0)\n",
        "      correct_train += (predicted_train == labels).sum().item()\n",
        "      perbatch_acc_train = correct_train / total_train\n",
        "      avg_perbatch_acc_train += perbatch_acc_train / 2 # 100 * accuracy / 200\n",
        "\n",
        "      running_tloss += loss.item()\n",
        "\n",
        "      if i % 50 == 49:\n",
        "         tloss_plt.append(loss.item())\n",
        "         \n",
        "      if i % 200 == 199:\n",
        "        print('[%d, %5d] train loss: %.6f, avg_train_acc: %.2f %%' % (epoch + 1, i + 1, running_tloss / 200, avg_perbatch_acc_train))\n",
        "        train_acc_plot.append(avg_perbatch_acc_train)\n",
        "        running_tloss = 0.0\n",
        "        avg_perbatch_acc_train = 0.0\n",
        "\n",
        "    net.train(mode=False)\n",
        "    print('evaluation cycle')\n",
        "    with torch.no_grad():\n",
        "      for i, data in enumerate(valloader, 0):\n",
        "        inputs, labels = data\n",
        "\n",
        "        outputs = net(inputs)\n",
        "        loss = criterion(outputs, labels)\n",
        "        \n",
        "        perbatch_acc_val = 0.0\n",
        "        _, predicted_val = torch.max(outputs.data, 1)\n",
        "        total_val += labels.size(0)\n",
        "        correct_val += (predicted_val == labels).sum().item()\n",
        "        perbatch_acc_val = correct_val / total_val\n",
        "        avg_perbatch_acc_val += perbatch_acc_val / 2\n",
        "\n",
        "        running_vloss += loss.item()\n",
        "\n",
        "        if i % 50 == 49:\n",
        "         vloss_plt.append(loss.item())\n",
        "         \n",
        "        if i % 200 == 199:\n",
        "          print('[%d, %5d] val loss: %.6f, avg_val_acc: %.2f %%' % (epoch + 1, i + 1, running_vloss / 200, avg_perbatch_acc_val))\n",
        "          val_acc_plot.append(avg_perbatch_acc_val)\n",
        "          running_vloss = 0.0\n",
        "          avg_perbatch_acc_val = 0.0\n",
        "\n",
        "    end = time.time()\n",
        "    print('time spent on epoch %d: %.2f s' % (epoch + 1,end - start))\n",
        "print('sector clear!')"
      ],
      "execution_count": null,
      "outputs": [
        {
          "output_type": "stream",
          "text": [
            "epoch 1\n",
            "training cycle\n",
            "[1,   200] train loss: 2.164897, avg_train_acc: 35.50 %\n",
            "[1,   400] train loss: 0.981128, avg_train_acc: 57.81 %\n",
            "[1,   600] train loss: 0.702276, avg_train_acc: 66.19 %\n",
            "[1,   800] train loss: 0.593354, avg_train_acc: 70.87 %\n",
            "[1,  1000] train loss: 0.523619, avg_train_acc: 74.06 %\n",
            "[1,  1200] train loss: 0.474543, avg_train_acc: 76.25 %\n",
            "[1,  1400] train loss: 0.426697, avg_train_acc: 77.92 %\n",
            "[1,  1600] train loss: 0.396483, avg_train_acc: 79.34 %\n",
            "[1,  1800] train loss: 0.389670, avg_train_acc: 80.46 %\n",
            "[1,  2000] train loss: 0.363730, avg_train_acc: 81.40 %\n",
            "[1,  2200] train loss: 0.358356, avg_train_acc: 82.20 %\n",
            "[1,  2400] train loss: 0.353954, avg_train_acc: 82.84 %\n",
            "[1,  2600] train loss: 0.338916, avg_train_acc: 83.39 %\n",
            "[1,  2800] train loss: 0.306305, avg_train_acc: 83.93 %\n",
            "[1,  3000] train loss: 0.299448, avg_train_acc: 84.42 %\n",
            "[1,  3200] train loss: 0.287650, avg_train_acc: 84.88 %\n",
            "[1,  3400] train loss: 0.294532, avg_train_acc: 85.26 %\n",
            "evaluation cycle\n",
            "[1,   200] val loss: 0.302394, avg_val_acc: 91.23 %\n",
            "[1,   400] val loss: 0.318952, avg_val_acc: 91.02 %\n",
            "[1,   600] val loss: 0.322760, avg_val_acc: 90.73 %\n",
            "[1,   800] val loss: 0.321224, avg_val_acc: 90.81 %\n",
            "[1,  1000] val loss: 0.297090, avg_val_acc: 90.78 %\n",
            "[1,  1200] val loss: 0.311985, avg_val_acc: 90.85 %\n",
            "[1,  1400] val loss: 0.293798, avg_val_acc: 90.90 %\n",
            "[1,  1600] val loss: 0.321261, avg_val_acc: 90.99 %\n",
            "[1,  1800] val loss: 0.299747, avg_val_acc: 90.95 %\n",
            "[1,  2000] val loss: 0.320563, avg_val_acc: 90.96 %\n",
            "[1,  2200] val loss: 0.299398, avg_val_acc: 90.99 %\n",
            "[1,  2400] val loss: 0.324432, avg_val_acc: 90.98 %\n",
            "[1,  2600] val loss: 0.319475, avg_val_acc: 90.94 %\n",
            "[1,  2800] val loss: 0.315353, avg_val_acc: 90.96 %\n",
            "[1,  3000] val loss: 0.286525, avg_val_acc: 90.93 %\n",
            "[1,  3200] val loss: 0.304290, avg_val_acc: 90.93 %\n",
            "[1,  3400] val loss: 0.309574, avg_val_acc: 90.95 %\n",
            "time spent on epoch 1: 198.64 s\n",
            "epoch 2\n",
            "training cycle\n",
            "[2,   200] train loss: 0.253132, avg_train_acc: 85.82 %\n",
            "[2,   400] train loss: 0.250077, avg_train_acc: 86.17 %\n",
            "[2,   600] train loss: 0.256869, avg_train_acc: 86.49 %\n",
            "[2,   800] train loss: 0.234637, avg_train_acc: 86.77 %\n",
            "[2,  1000] train loss: 0.236463, avg_train_acc: 87.05 %\n",
            "[2,  1200] train loss: 0.238279, avg_train_acc: 87.30 %\n",
            "[2,  1400] train loss: 0.224507, avg_train_acc: 87.53 %\n",
            "[2,  1600] train loss: 0.239766, avg_train_acc: 87.74 %\n",
            "[2,  1800] train loss: 0.222382, avg_train_acc: 87.94 %\n",
            "[2,  2000] train loss: 0.222122, avg_train_acc: 88.14 %\n",
            "[2,  2200] train loss: 0.219981, avg_train_acc: 88.33 %\n",
            "[2,  2400] train loss: 0.223160, avg_train_acc: 88.50 %\n",
            "[2,  2600] train loss: 0.220315, avg_train_acc: 88.66 %\n",
            "[2,  2800] train loss: 0.203201, avg_train_acc: 88.82 %\n",
            "[2,  3000] train loss: 0.206066, avg_train_acc: 88.97 %\n",
            "[2,  3200] train loss: 0.201876, avg_train_acc: 89.11 %\n",
            "[2,  3400] train loss: 0.199017, avg_train_acc: 89.25 %\n",
            "evaluation cycle\n",
            "[2,   200] val loss: 0.209035, avg_val_acc: 91.01 %\n",
            "[2,   400] val loss: 0.199802, avg_val_acc: 91.17 %\n",
            "[2,   600] val loss: 0.206322, avg_val_acc: 91.33 %\n",
            "[2,   800] val loss: 0.219878, avg_val_acc: 91.44 %\n",
            "[2,  1000] val loss: 0.193006, avg_val_acc: 91.55 %\n",
            "[2,  1200] val loss: 0.207512, avg_val_acc: 91.64 %\n",
            "[2,  1400] val loss: 0.205278, avg_val_acc: 91.73 %\n",
            "[2,  1600] val loss: 0.189185, avg_val_acc: 91.79 %\n",
            "[2,  1800] val loss: 0.209557, avg_val_acc: 91.88 %\n",
            "[2,  2000] val loss: 0.203036, avg_val_acc: 91.96 %\n",
            "[2,  2200] val loss: 0.197428, avg_val_acc: 92.03 %\n",
            "[2,  2400] val loss: 0.207249, avg_val_acc: 92.09 %\n",
            "[2,  2600] val loss: 0.215841, avg_val_acc: 92.14 %\n",
            "[2,  2800] val loss: 0.183326, avg_val_acc: 92.21 %\n",
            "[2,  3000] val loss: 0.187944, avg_val_acc: 92.29 %\n",
            "[2,  3200] val loss: 0.209686, avg_val_acc: 92.33 %\n",
            "[2,  3400] val loss: 0.206731, avg_val_acc: 92.37 %\n",
            "time spent on epoch 2: 199.29 s\n",
            "epoch 3\n",
            "training cycle\n",
            "[3,   200] train loss: 0.176966, avg_train_acc: 89.47 %\n",
            "[3,   400] train loss: 0.167412, avg_train_acc: 89.61 %\n",
            "[3,   600] train loss: 0.186870, avg_train_acc: 89.74 %\n",
            "[3,   800] train loss: 0.171697, avg_train_acc: 89.86 %\n",
            "[3,  1000] train loss: 0.175176, avg_train_acc: 89.97 %\n",
            "[3,  1200] train loss: 0.172865, avg_train_acc: 90.08 %\n",
            "[3,  1400] train loss: 0.167755, avg_train_acc: 90.20 %\n",
            "[3,  1600] train loss: 0.165549, avg_train_acc: 90.30 %\n",
            "[3,  1800] train loss: 0.163601, avg_train_acc: 90.41 %\n",
            "[3,  2000] train loss: 0.168818, avg_train_acc: 90.51 %\n",
            "[3,  2200] train loss: 0.168721, avg_train_acc: 90.60 %\n",
            "[3,  2400] train loss: 0.168839, avg_train_acc: 90.69 %\n",
            "[3,  2600] train loss: 0.169378, avg_train_acc: 90.77 %\n",
            "[3,  2800] train loss: 0.166834, avg_train_acc: 90.85 %\n",
            "[3,  3000] train loss: 0.158504, avg_train_acc: 90.93 %\n",
            "[3,  3200] train loss: 0.161756, avg_train_acc: 91.01 %\n",
            "[3,  3400] train loss: 0.156355, avg_train_acc: 91.09 %\n",
            "evaluation cycle\n",
            "[3,   200] val loss: 0.188163, avg_val_acc: 92.46 %\n",
            "[3,   400] val loss: 0.166605, avg_val_acc: 92.53 %\n",
            "[3,   600] val loss: 0.160377, avg_val_acc: 92.59 %\n",
            "[3,   800] val loss: 0.167427, avg_val_acc: 92.64 %\n",
            "[3,  1000] val loss: 0.179905, avg_val_acc: 92.69 %\n",
            "[3,  1200] val loss: 0.171083, avg_val_acc: 92.74 %\n",
            "[3,  1400] val loss: 0.158215, avg_val_acc: 92.79 %\n",
            "[3,  1600] val loss: 0.175413, avg_val_acc: 92.85 %\n",
            "[3,  1800] val loss: 0.151628, avg_val_acc: 92.89 %\n",
            "[3,  2000] val loss: 0.171051, avg_val_acc: 92.93 %\n",
            "[3,  2200] val loss: 0.178029, avg_val_acc: 92.97 %\n",
            "[3,  2400] val loss: 0.175329, avg_val_acc: 93.01 %\n",
            "[3,  2600] val loss: 0.185802, avg_val_acc: 93.04 %\n",
            "[3,  2800] val loss: 0.184767, avg_val_acc: 93.08 %\n",
            "[3,  3000] val loss: 0.160071, avg_val_acc: 93.11 %\n",
            "[3,  3200] val loss: 0.162168, avg_val_acc: 93.15 %\n",
            "[3,  3400] val loss: 0.183560, avg_val_acc: 93.18 %\n",
            "time spent on epoch 3: 201.59 s\n",
            "epoch 4\n",
            "training cycle\n",
            "[4,   200] train loss: 0.141630, avg_train_acc: 91.21 %\n",
            "[4,   400] train loss: 0.140659, avg_train_acc: 91.29 %\n",
            "[4,   600] train loss: 0.129210, avg_train_acc: 91.37 %\n",
            "[4,   800] train loss: 0.133690, avg_train_acc: 91.45 %\n",
            "[4,  1000] train loss: 0.136959, avg_train_acc: 91.52 %\n",
            "[4,  1200] train loss: 0.138745, avg_train_acc: 91.59 %\n",
            "[4,  1400] train loss: 0.131181, avg_train_acc: 91.66 %\n",
            "[4,  1600] train loss: 0.128894, avg_train_acc: 91.73 %\n",
            "[4,  1800] train loss: 0.144808, avg_train_acc: 91.79 %\n",
            "[4,  2000] train loss: 0.147148, avg_train_acc: 91.85 %\n",
            "[4,  2200] train loss: 0.147378, avg_train_acc: 91.90 %\n",
            "[4,  2400] train loss: 0.139253, avg_train_acc: 91.95 %\n",
            "[4,  2600] train loss: 0.135864, avg_train_acc: 92.01 %\n",
            "[4,  2800] train loss: 0.135258, avg_train_acc: 92.06 %\n",
            "[4,  3000] train loss: 0.145289, avg_train_acc: 92.11 %\n",
            "[4,  3200] train loss: 0.132501, avg_train_acc: 92.16 %\n",
            "[4,  3400] train loss: 0.131871, avg_train_acc: 92.22 %\n",
            "evaluation cycle\n",
            "[4,   200] val loss: 0.144984, avg_val_acc: 93.25 %\n",
            "[4,   400] val loss: 0.151453, avg_val_acc: 93.29 %\n",
            "[4,   600] val loss: 0.167524, avg_val_acc: 93.33 %\n",
            "[4,   800] val loss: 0.142389, avg_val_acc: 93.36 %\n",
            "[4,  1000] val loss: 0.149593, avg_val_acc: 93.40 %\n",
            "[4,  1200] val loss: 0.140127, avg_val_acc: 93.43 %\n",
            "[4,  1400] val loss: 0.150982, avg_val_acc: 93.47 %\n",
            "[4,  1600] val loss: 0.160215, avg_val_acc: 93.50 %\n",
            "[4,  1800] val loss: 0.147760, avg_val_acc: 93.53 %\n",
            "[4,  2000] val loss: 0.163389, avg_val_acc: 93.56 %\n",
            "[4,  2200] val loss: 0.134390, avg_val_acc: 93.58 %\n",
            "[4,  2400] val loss: 0.171012, avg_val_acc: 93.61 %\n",
            "[4,  2600] val loss: 0.160404, avg_val_acc: 93.63 %\n",
            "[4,  2800] val loss: 0.143193, avg_val_acc: 93.66 %\n",
            "[4,  3000] val loss: 0.146148, avg_val_acc: 93.69 %\n",
            "[4,  3200] val loss: 0.143087, avg_val_acc: 93.71 %\n",
            "[4,  3400] val loss: 0.147785, avg_val_acc: 93.74 %\n",
            "time spent on epoch 4: 200.46 s\n",
            "epoch 5\n",
            "training cycle\n",
            "[5,   200] train loss: 0.118834, avg_train_acc: 92.30 %\n",
            "[5,   400] train loss: 0.109899, avg_train_acc: 92.36 %\n",
            "[5,   600] train loss: 0.123855, avg_train_acc: 92.41 %\n",
            "[5,   800] train loss: 0.116890, avg_train_acc: 92.46 %\n",
            "[5,  1000] train loss: 0.108737, avg_train_acc: 92.51 %\n",
            "[5,  1200] train loss: 0.114333, avg_train_acc: 92.56 %\n",
            "[5,  1400] train loss: 0.115737, avg_train_acc: 92.61 %\n",
            "[5,  1600] train loss: 0.118020, avg_train_acc: 92.66 %\n",
            "[5,  1800] train loss: 0.112969, avg_train_acc: 92.70 %\n",
            "[5,  2000] train loss: 0.127441, avg_train_acc: 92.74 %\n",
            "[5,  2200] train loss: 0.118619, avg_train_acc: 92.78 %\n",
            "[5,  2400] train loss: 0.123173, avg_train_acc: 92.83 %\n",
            "[5,  2600] train loss: 0.111954, avg_train_acc: 92.87 %\n",
            "[5,  2800] train loss: 0.111123, avg_train_acc: 92.91 %\n",
            "[5,  3000] train loss: 0.115681, avg_train_acc: 92.95 %\n",
            "[5,  3200] train loss: 0.117992, avg_train_acc: 92.99 %\n",
            "[5,  3400] train loss: 0.108105, avg_train_acc: 93.03 %\n",
            "evaluation cycle\n",
            "[5,   200] val loss: 0.136535, avg_val_acc: 93.78 %\n",
            "[5,   400] val loss: 0.159069, avg_val_acc: 93.81 %\n",
            "[5,   600] val loss: 0.131172, avg_val_acc: 93.84 %\n",
            "[5,   800] val loss: 0.112767, avg_val_acc: 93.87 %\n",
            "[5,  1000] val loss: 0.118796, avg_val_acc: 93.90 %\n",
            "[5,  1200] val loss: 0.118417, avg_val_acc: 93.93 %\n",
            "[5,  1400] val loss: 0.126640, avg_val_acc: 93.96 %\n",
            "[5,  1600] val loss: 0.129219, avg_val_acc: 93.99 %\n",
            "[5,  1800] val loss: 0.103091, avg_val_acc: 94.02 %\n",
            "[5,  2000] val loss: 0.121142, avg_val_acc: 94.05 %\n",
            "[5,  2200] val loss: 0.124690, avg_val_acc: 94.07 %\n",
            "[5,  2400] val loss: 0.145772, avg_val_acc: 94.09 %\n",
            "[5,  2600] val loss: 0.119624, avg_val_acc: 94.12 %\n",
            "[5,  2800] val loss: 0.140202, avg_val_acc: 94.14 %\n",
            "[5,  3000] val loss: 0.142306, avg_val_acc: 94.16 %\n",
            "[5,  3200] val loss: 0.131924, avg_val_acc: 94.18 %\n",
            "[5,  3400] val loss: 0.141014, avg_val_acc: 94.20 %\n",
            "time spent on epoch 5: 199.68 s\n",
            "epoch 6\n",
            "training cycle\n",
            "[6,   200] train loss: 0.092892, avg_train_acc: 93.09 %\n",
            "[6,   400] train loss: 0.105578, avg_train_acc: 93.13 %\n",
            "[6,   600] train loss: 0.109224, avg_train_acc: 93.17 %\n",
            "[6,   800] train loss: 0.097865, avg_train_acc: 93.21 %\n",
            "[6,  1000] train loss: 0.105091, avg_train_acc: 93.24 %\n",
            "[6,  1200] train loss: 0.098934, avg_train_acc: 93.28 %\n",
            "[6,  1400] train loss: 0.094751, avg_train_acc: 93.32 %\n",
            "[6,  1600] train loss: 0.106526, avg_train_acc: 93.35 %\n",
            "[6,  1800] train loss: 0.093513, avg_train_acc: 93.39 %\n",
            "[6,  2000] train loss: 0.103817, avg_train_acc: 93.42 %\n",
            "[6,  2200] train loss: 0.103036, avg_train_acc: 93.46 %\n",
            "[6,  2400] train loss: 0.108472, avg_train_acc: 93.49 %\n",
            "[6,  2600] train loss: 0.098079, avg_train_acc: 93.52 %\n",
            "[6,  2800] train loss: 0.102956, avg_train_acc: 93.55 %\n",
            "[6,  3000] train loss: 0.099665, avg_train_acc: 93.58 %\n",
            "[6,  3200] train loss: 0.094527, avg_train_acc: 93.61 %\n",
            "[6,  3400] train loss: 0.105909, avg_train_acc: 93.64 %\n",
            "evaluation cycle\n",
            "[6,   200] val loss: 0.147068, avg_val_acc: 94.24 %\n",
            "[6,   400] val loss: 0.143282, avg_val_acc: 94.26 %\n",
            "[6,   600] val loss: 0.129757, avg_val_acc: 94.28 %\n",
            "[6,   800] val loss: 0.127068, avg_val_acc: 94.29 %\n",
            "[6,  1000] val loss: 0.128920, avg_val_acc: 94.31 %\n",
            "[6,  1200] val loss: 0.106728, avg_val_acc: 94.34 %\n",
            "[6,  1400] val loss: 0.126551, avg_val_acc: 94.36 %\n",
            "[6,  1600] val loss: 0.131020, avg_val_acc: 94.37 %\n",
            "[6,  1800] val loss: 0.112006, avg_val_acc: 94.39 %\n",
            "[6,  2000] val loss: 0.111169, avg_val_acc: 94.41 %\n",
            "[6,  2200] val loss: 0.139704, avg_val_acc: 94.43 %\n",
            "[6,  2400] val loss: 0.108227, avg_val_acc: 94.45 %\n",
            "[6,  2600] val loss: 0.117855, avg_val_acc: 94.47 %\n",
            "[6,  2800] val loss: 0.117896, avg_val_acc: 94.49 %\n",
            "[6,  3000] val loss: 0.145576, avg_val_acc: 94.50 %\n",
            "[6,  3200] val loss: 0.123986, avg_val_acc: 94.52 %\n",
            "[6,  3400] val loss: 0.134985, avg_val_acc: 94.53 %\n",
            "time spent on epoch 6: 200.63 s\n",
            "epoch 7\n",
            "training cycle\n",
            "[7,   200] train loss: 0.098277, avg_train_acc: 93.69 %\n",
            "[7,   400] train loss: 0.087049, avg_train_acc: 93.72 %\n",
            "[7,   600] train loss: 0.091193, avg_train_acc: 93.75 %\n",
            "[7,   800] train loss: 0.087092, avg_train_acc: 93.79 %\n",
            "[7,  1000] train loss: 0.093459, avg_train_acc: 93.81 %\n",
            "[7,  1200] train loss: 0.088715, avg_train_acc: 93.84 %\n",
            "[7,  1400] train loss: 0.091879, avg_train_acc: 93.87 %\n",
            "[7,  1600] train loss: 0.084789, avg_train_acc: 93.90 %\n",
            "[7,  1800] train loss: 0.090518, avg_train_acc: 93.93 %\n",
            "[7,  2000] train loss: 0.091208, avg_train_acc: 93.95 %\n",
            "[7,  2200] train loss: 0.094265, avg_train_acc: 93.98 %\n",
            "[7,  2400] train loss: 0.091816, avg_train_acc: 94.01 %\n",
            "[7,  2600] train loss: 0.093483, avg_train_acc: 94.03 %\n",
            "[7,  2800] train loss: 0.099276, avg_train_acc: 94.05 %\n",
            "[7,  3000] train loss: 0.085694, avg_train_acc: 94.08 %\n",
            "[7,  3200] train loss: 0.084591, avg_train_acc: 94.10 %\n",
            "[7,  3400] train loss: 0.091507, avg_train_acc: 94.13 %\n",
            "evaluation cycle\n",
            "[7,   200] val loss: 0.122646, avg_val_acc: 94.56 %\n",
            "[7,   400] val loss: 0.111801, avg_val_acc: 94.57 %\n",
            "[7,   600] val loss: 0.104559, avg_val_acc: 94.59 %\n",
            "[7,   800] val loss: 0.130696, avg_val_acc: 94.60 %\n",
            "[7,  1000] val loss: 0.116774, avg_val_acc: 94.61 %\n",
            "[7,  1200] val loss: 0.135380, avg_val_acc: 94.63 %\n",
            "[7,  1400] val loss: 0.117660, avg_val_acc: 94.64 %\n",
            "[7,  1600] val loss: 0.106763, avg_val_acc: 94.66 %\n",
            "[7,  1800] val loss: 0.135955, avg_val_acc: 94.67 %\n",
            "[7,  2000] val loss: 0.119420, avg_val_acc: 94.68 %\n",
            "[7,  2200] val loss: 0.111318, avg_val_acc: 94.69 %\n",
            "[7,  2400] val loss: 0.127993, avg_val_acc: 94.71 %\n",
            "[7,  2600] val loss: 0.098639, avg_val_acc: 94.72 %\n",
            "[7,  2800] val loss: 0.116599, avg_val_acc: 94.74 %\n",
            "[7,  3000] val loss: 0.106768, avg_val_acc: 94.75 %\n",
            "[7,  3200] val loss: 0.138006, avg_val_acc: 94.77 %\n",
            "[7,  3400] val loss: 0.116040, avg_val_acc: 94.78 %\n",
            "time spent on epoch 7: 200.85 s\n",
            "epoch 8\n",
            "training cycle\n",
            "[8,   200] train loss: 0.080484, avg_train_acc: 94.17 %\n",
            "[8,   400] train loss: 0.078853, avg_train_acc: 94.19 %\n",
            "[8,   600] train loss: 0.081299, avg_train_acc: 94.22 %\n",
            "[8,   800] train loss: 0.078174, avg_train_acc: 94.24 %\n",
            "[8,  1000] train loss: 0.079379, avg_train_acc: 94.27 %\n",
            "[8,  1200] train loss: 0.080037, avg_train_acc: 94.29 %\n",
            "[8,  1400] train loss: 0.076705, avg_train_acc: 94.31 %\n",
            "[8,  1600] train loss: 0.088589, avg_train_acc: 94.34 %\n",
            "[8,  1800] train loss: 0.086598, avg_train_acc: 94.36 %\n",
            "[8,  2000] train loss: 0.080349, avg_train_acc: 94.38 %\n",
            "[8,  2200] train loss: 0.073771, avg_train_acc: 94.40 %\n",
            "[8,  2400] train loss: 0.086234, avg_train_acc: 94.42 %\n",
            "[8,  2600] train loss: 0.084240, avg_train_acc: 94.44 %\n",
            "[8,  2800] train loss: 0.081666, avg_train_acc: 94.46 %\n",
            "[8,  3000] train loss: 0.077260, avg_train_acc: 94.48 %\n",
            "[8,  3200] train loss: 0.086665, avg_train_acc: 94.51 %\n",
            "[8,  3400] train loss: 0.086135, avg_train_acc: 94.53 %\n",
            "evaluation cycle\n",
            "[8,   200] val loss: 0.124848, avg_val_acc: 94.80 %\n",
            "[8,   400] val loss: 0.102418, avg_val_acc: 94.81 %\n",
            "[8,   600] val loss: 0.120091, avg_val_acc: 94.83 %\n",
            "[8,   800] val loss: 0.123525, avg_val_acc: 94.84 %\n",
            "[8,  1000] val loss: 0.112295, avg_val_acc: 94.86 %\n",
            "[8,  1200] val loss: 0.108494, avg_val_acc: 94.87 %\n",
            "[8,  1400] val loss: 0.110022, avg_val_acc: 94.89 %\n",
            "[8,  1600] val loss: 0.108484, avg_val_acc: 94.90 %\n",
            "[8,  1800] val loss: 0.113622, avg_val_acc: 94.92 %\n",
            "[8,  2000] val loss: 0.113589, avg_val_acc: 94.93 %\n",
            "[8,  2200] val loss: 0.129523, avg_val_acc: 94.94 %\n",
            "[8,  2400] val loss: 0.114273, avg_val_acc: 94.96 %\n",
            "[8,  2600] val loss: 0.139202, avg_val_acc: 94.97 %\n",
            "[8,  2800] val loss: 0.101184, avg_val_acc: 94.98 %\n",
            "[8,  3000] val loss: 0.116886, avg_val_acc: 95.00 %\n",
            "[8,  3200] val loss: 0.101464, avg_val_acc: 95.01 %\n",
            "[8,  3400] val loss: 0.112566, avg_val_acc: 95.02 %\n",
            "time spent on epoch 8: 199.81 s\n",
            "epoch 9\n",
            "training cycle\n",
            "[9,   200] train loss: 0.067536, avg_train_acc: 94.56 %\n",
            "[9,   400] train loss: 0.070990, avg_train_acc: 94.58 %\n",
            "[9,   600] train loss: 0.069835, avg_train_acc: 94.60 %\n",
            "[9,   800] train loss: 0.069197, avg_train_acc: 94.62 %\n",
            "[9,  1000] train loss: 0.078392, avg_train_acc: 94.64 %\n",
            "[9,  1200] train loss: 0.086321, avg_train_acc: 94.66 %\n",
            "[9,  1400] train loss: 0.071957, avg_train_acc: 94.68 %\n",
            "[9,  1600] train loss: 0.083971, avg_train_acc: 94.70 %\n",
            "[9,  1800] train loss: 0.072451, avg_train_acc: 94.71 %\n",
            "[9,  2000] train loss: 0.076568, avg_train_acc: 94.73 %\n",
            "[9,  2200] train loss: 0.082012, avg_train_acc: 94.75 %\n",
            "[9,  2400] train loss: 0.077929, avg_train_acc: 94.77 %\n",
            "[9,  2600] train loss: 0.072580, avg_train_acc: 94.79 %\n",
            "[9,  2800] train loss: 0.072889, avg_train_acc: 94.81 %\n",
            "[9,  3000] train loss: 0.077180, avg_train_acc: 94.82 %\n",
            "[9,  3200] train loss: 0.070737, avg_train_acc: 94.84 %\n",
            "[9,  3400] train loss: 0.079390, avg_train_acc: 94.86 %\n",
            "evaluation cycle\n",
            "[9,   200] val loss: 0.110713, avg_val_acc: 95.05 %\n",
            "[9,   400] val loss: 0.097905, avg_val_acc: 95.06 %\n",
            "[9,   600] val loss: 0.092863, avg_val_acc: 95.07 %\n",
            "[9,   800] val loss: 0.111704, avg_val_acc: 95.09 %\n",
            "[9,  1000] val loss: 0.117450, avg_val_acc: 95.10 %\n",
            "[9,  1200] val loss: 0.096708, avg_val_acc: 95.11 %\n",
            "[9,  1400] val loss: 0.113245, avg_val_acc: 95.12 %\n",
            "[9,  1600] val loss: 0.105466, avg_val_acc: 95.13 %\n",
            "[9,  1800] val loss: 0.123686, avg_val_acc: 95.14 %\n",
            "[9,  2000] val loss: 0.133790, avg_val_acc: 95.15 %\n",
            "[9,  2200] val loss: 0.089072, avg_val_acc: 95.16 %\n",
            "[9,  2400] val loss: 0.110636, avg_val_acc: 95.18 %\n",
            "[9,  2600] val loss: 0.104318, avg_val_acc: 95.19 %\n",
            "[9,  2800] val loss: 0.110385, avg_val_acc: 95.20 %\n",
            "[9,  3000] val loss: 0.113091, avg_val_acc: 95.21 %\n",
            "[9,  3200] val loss: 0.109760, avg_val_acc: 95.22 %\n",
            "[9,  3400] val loss: 0.087587, avg_val_acc: 95.23 %\n",
            "time spent on epoch 9: 200.42 s\n",
            "epoch 10\n",
            "training cycle\n",
            "[10,   200] train loss: 0.065363, avg_train_acc: 94.89 %\n",
            "[10,   400] train loss: 0.066104, avg_train_acc: 94.91 %\n",
            "[10,   600] train loss: 0.065340, avg_train_acc: 94.92 %\n",
            "[10,   800] train loss: 0.060573, avg_train_acc: 94.94 %\n",
            "[10,  1000] train loss: 0.068161, avg_train_acc: 94.96 %\n",
            "[10,  1200] train loss: 0.077531, avg_train_acc: 94.97 %\n",
            "[10,  1400] train loss: 0.077696, avg_train_acc: 94.99 %\n",
            "[10,  1600] train loss: 0.068149, avg_train_acc: 95.01 %\n",
            "[10,  1800] train loss: 0.073480, avg_train_acc: 95.02 %\n",
            "[10,  2000] train loss: 0.071476, avg_train_acc: 95.04 %\n",
            "[10,  2200] train loss: 0.066006, avg_train_acc: 95.05 %\n",
            "[10,  2400] train loss: 0.075599, avg_train_acc: 95.07 %\n",
            "[10,  2600] train loss: 0.071625, avg_train_acc: 95.08 %\n",
            "[10,  2800] train loss: 0.071833, avg_train_acc: 95.10 %\n",
            "[10,  3000] train loss: 0.069945, avg_train_acc: 95.11 %\n",
            "[10,  3200] train loss: 0.063961, avg_train_acc: 95.13 %\n",
            "[10,  3400] train loss: 0.071988, avg_train_acc: 95.14 %\n",
            "evaluation cycle\n",
            "[10,   200] val loss: 0.093357, avg_val_acc: 95.25 %\n",
            "[10,   400] val loss: 0.098275, avg_val_acc: 95.26 %\n",
            "[10,   600] val loss: 0.092961, avg_val_acc: 95.27 %\n",
            "[10,   800] val loss: 0.077402, avg_val_acc: 95.29 %\n",
            "[10,  1000] val loss: 0.083981, avg_val_acc: 95.30 %\n",
            "[10,  1200] val loss: 0.091803, avg_val_acc: 95.31 %\n",
            "[10,  1400] val loss: 0.091248, avg_val_acc: 95.32 %\n",
            "[10,  1600] val loss: 0.113535, avg_val_acc: 95.33 %\n",
            "[10,  1800] val loss: 0.098701, avg_val_acc: 95.34 %\n",
            "[10,  2000] val loss: 0.100245, avg_val_acc: 95.35 %\n",
            "[10,  2200] val loss: 0.130650, avg_val_acc: 95.36 %\n",
            "[10,  2400] val loss: 0.090087, avg_val_acc: 95.37 %\n",
            "[10,  2600] val loss: 0.094059, avg_val_acc: 95.39 %\n",
            "[10,  2800] val loss: 0.110845, avg_val_acc: 95.39 %\n",
            "[10,  3000] val loss: 0.127043, avg_val_acc: 95.40 %\n",
            "[10,  3200] val loss: 0.076886, avg_val_acc: 95.41 %\n",
            "[10,  3400] val loss: 0.085524, avg_val_acc: 95.42 %\n",
            "time spent on epoch 10: 199.88 s\n",
            "epoch 11\n",
            "training cycle\n",
            "[11,   200] train loss: 0.060758, avg_train_acc: 95.17 %\n",
            "[11,   400] train loss: 0.062486, avg_train_acc: 95.18 %\n",
            "[11,   600] train loss: 0.061318, avg_train_acc: 95.20 %\n",
            "[11,   800] train loss: 0.061304, avg_train_acc: 95.21 %\n",
            "[11,  1000] train loss: 0.064330, avg_train_acc: 95.23 %\n",
            "[11,  1200] train loss: 0.067441, avg_train_acc: 95.24 %\n",
            "[11,  1400] train loss: 0.061511, avg_train_acc: 95.26 %\n",
            "[11,  1600] train loss: 0.063610, avg_train_acc: 95.27 %\n",
            "[11,  1800] train loss: 0.072806, avg_train_acc: 95.28 %\n",
            "[11,  2000] train loss: 0.063683, avg_train_acc: 95.30 %\n",
            "[11,  2200] train loss: 0.067057, avg_train_acc: 95.31 %\n",
            "[11,  2400] train loss: 0.064991, avg_train_acc: 95.32 %\n",
            "[11,  2600] train loss: 0.068788, avg_train_acc: 95.34 %\n",
            "[11,  2800] train loss: 0.066873, avg_train_acc: 95.35 %\n",
            "[11,  3000] train loss: 0.069699, avg_train_acc: 95.36 %\n",
            "[11,  3200] train loss: 0.062995, avg_train_acc: 95.37 %\n",
            "[11,  3400] train loss: 0.059730, avg_train_acc: 95.39 %\n",
            "evaluation cycle\n",
            "[11,   200] val loss: 0.114124, avg_val_acc: 95.44 %\n",
            "[11,   400] val loss: 0.097590, avg_val_acc: 95.45 %\n",
            "[11,   600] val loss: 0.110008, avg_val_acc: 95.46 %\n",
            "[11,   800] val loss: 0.100585, avg_val_acc: 95.47 %\n",
            "[11,  1000] val loss: 0.088290, avg_val_acc: 95.48 %\n",
            "[11,  1200] val loss: 0.112805, avg_val_acc: 95.49 %\n",
            "[11,  1400] val loss: 0.093186, avg_val_acc: 95.50 %\n",
            "[11,  1600] val loss: 0.097963, avg_val_acc: 95.51 %\n",
            "[11,  1800] val loss: 0.089373, avg_val_acc: 95.51 %\n",
            "[11,  2000] val loss: 0.096135, avg_val_acc: 95.52 %\n",
            "[11,  2200] val loss: 0.092159, avg_val_acc: 95.53 %\n",
            "[11,  2400] val loss: 0.087952, avg_val_acc: 95.54 %\n",
            "[11,  2600] val loss: 0.081234, avg_val_acc: 95.55 %\n",
            "[11,  2800] val loss: 0.105502, avg_val_acc: 95.56 %\n",
            "[11,  3000] val loss: 0.090311, avg_val_acc: 95.57 %\n",
            "[11,  3200] val loss: 0.113398, avg_val_acc: 95.58 %\n",
            "[11,  3400] val loss: 0.088939, avg_val_acc: 95.59 %\n",
            "time spent on epoch 11: 200.26 s\n",
            "epoch 12\n",
            "training cycle\n",
            "[12,   200] train loss: 0.051218, avg_train_acc: 95.41 %\n",
            "[12,   400] train loss: 0.060679, avg_train_acc: 95.42 %\n",
            "[12,   600] train loss: 0.056355, avg_train_acc: 95.43 %\n",
            "[12,   800] train loss: 0.056408, avg_train_acc: 95.45 %\n",
            "[12,  1000] train loss: 0.062338, avg_train_acc: 95.46 %\n",
            "[12,  1200] train loss: 0.060679, avg_train_acc: 95.47 %\n",
            "[12,  1400] train loss: 0.053806, avg_train_acc: 95.49 %\n",
            "[12,  1600] train loss: 0.064333, avg_train_acc: 95.50 %\n",
            "[12,  1800] train loss: 0.059628, avg_train_acc: 95.51 %\n",
            "[12,  2000] train loss: 0.063720, avg_train_acc: 95.52 %\n",
            "[12,  2200] train loss: 0.054922, avg_train_acc: 95.54 %\n",
            "[12,  2400] train loss: 0.058380, avg_train_acc: 95.55 %\n",
            "[12,  2600] train loss: 0.062913, avg_train_acc: 95.56 %\n",
            "[12,  2800] train loss: 0.069803, avg_train_acc: 95.57 %\n",
            "[12,  3000] train loss: 0.061148, avg_train_acc: 95.58 %\n",
            "[12,  3200] train loss: 0.067001, avg_train_acc: 95.59 %\n",
            "[12,  3400] train loss: 0.063155, avg_train_acc: 95.60 %\n",
            "evaluation cycle\n",
            "[12,   200] val loss: 0.081077, avg_val_acc: 95.61 %\n",
            "[12,   400] val loss: 0.101268, avg_val_acc: 95.62 %\n",
            "[12,   600] val loss: 0.098464, avg_val_acc: 95.62 %\n",
            "[12,   800] val loss: 0.085000, avg_val_acc: 95.63 %\n",
            "[12,  1000] val loss: 0.098883, avg_val_acc: 95.64 %\n",
            "[12,  1200] val loss: 0.093211, avg_val_acc: 95.65 %\n",
            "[12,  1400] val loss: 0.084295, avg_val_acc: 95.66 %\n",
            "[12,  1600] val loss: 0.087372, avg_val_acc: 95.67 %\n",
            "[12,  1800] val loss: 0.112065, avg_val_acc: 95.68 %\n",
            "[12,  2000] val loss: 0.071474, avg_val_acc: 95.69 %\n",
            "[12,  2200] val loss: 0.101025, avg_val_acc: 95.70 %\n",
            "[12,  2400] val loss: 0.078886, avg_val_acc: 95.70 %\n",
            "[12,  2600] val loss: 0.088156, avg_val_acc: 95.71 %\n",
            "[12,  2800] val loss: 0.081778, avg_val_acc: 95.72 %\n",
            "[12,  3000] val loss: 0.084763, avg_val_acc: 95.73 %\n",
            "[12,  3200] val loss: 0.086845, avg_val_acc: 95.74 %\n",
            "[12,  3400] val loss: 0.095182, avg_val_acc: 95.75 %\n",
            "time spent on epoch 12: 200.74 s\n",
            "epoch 13\n",
            "training cycle\n",
            "[13,   200] train loss: 0.049599, avg_train_acc: 95.62 %\n",
            "[13,   400] train loss: 0.047307, avg_train_acc: 95.64 %\n",
            "[13,   600] train loss: 0.059504, avg_train_acc: 95.65 %\n",
            "[13,   800] train loss: 0.062839, avg_train_acc: 95.66 %\n",
            "[13,  1000] train loss: 0.062836, avg_train_acc: 95.67 %\n",
            "[13,  1200] train loss: 0.055911, avg_train_acc: 95.68 %\n",
            "[13,  1400] train loss: 0.057218, avg_train_acc: 95.69 %\n",
            "[13,  1600] train loss: 0.055349, avg_train_acc: 95.70 %\n",
            "[13,  1800] train loss: 0.047713, avg_train_acc: 95.71 %\n",
            "[13,  2000] train loss: 0.052376, avg_train_acc: 95.72 %\n",
            "[13,  2200] train loss: 0.061065, avg_train_acc: 95.73 %\n",
            "[13,  2400] train loss: 0.056908, avg_train_acc: 95.74 %\n",
            "[13,  2600] train loss: 0.053766, avg_train_acc: 95.76 %\n",
            "[13,  2800] train loss: 0.055493, avg_train_acc: 95.77 %\n",
            "[13,  3000] train loss: 0.060541, avg_train_acc: 95.78 %\n",
            "[13,  3200] train loss: 0.060030, avg_train_acc: 95.79 %\n",
            "[13,  3400] train loss: 0.059834, avg_train_acc: 95.80 %\n",
            "evaluation cycle\n",
            "[13,   200] val loss: 0.106873, avg_val_acc: 95.76 %\n",
            "[13,   400] val loss: 0.077884, avg_val_acc: 95.77 %\n",
            "[13,   600] val loss: 0.084594, avg_val_acc: 95.78 %\n",
            "[13,   800] val loss: 0.099105, avg_val_acc: 95.79 %\n",
            "[13,  1000] val loss: 0.087187, avg_val_acc: 95.80 %\n",
            "[13,  1200] val loss: 0.110581, avg_val_acc: 95.80 %\n",
            "[13,  1400] val loss: 0.112364, avg_val_acc: 95.81 %\n",
            "[13,  1600] val loss: 0.116685, avg_val_acc: 95.82 %\n",
            "[13,  1800] val loss: 0.082687, avg_val_acc: 95.83 %\n",
            "[13,  2000] val loss: 0.091919, avg_val_acc: 95.84 %\n",
            "[13,  2200] val loss: 0.094846, avg_val_acc: 95.84 %\n",
            "[13,  2400] val loss: 0.091951, avg_val_acc: 95.85 %\n",
            "[13,  2600] val loss: 0.085451, avg_val_acc: 95.86 %\n",
            "[13,  2800] val loss: 0.096131, avg_val_acc: 95.87 %\n",
            "[13,  3000] val loss: 0.069517, avg_val_acc: 95.87 %\n",
            "[13,  3200] val loss: 0.089036, avg_val_acc: 95.88 %\n",
            "[13,  3400] val loss: 0.088751, avg_val_acc: 95.89 %\n",
            "time spent on epoch 13: 201.68 s\n",
            "epoch 14\n",
            "training cycle\n",
            "[14,   200] train loss: 0.048879, avg_train_acc: 95.81 %\n",
            "[14,   400] train loss: 0.046842, avg_train_acc: 95.82 %\n",
            "[14,   600] train loss: 0.054875, avg_train_acc: 95.83 %\n",
            "[14,   800] train loss: 0.053004, avg_train_acc: 95.84 %\n",
            "[14,  1000] train loss: 0.057924, avg_train_acc: 95.85 %\n",
            "[14,  1200] train loss: 0.050295, avg_train_acc: 95.86 %\n",
            "[14,  1400] train loss: 0.054674, avg_train_acc: 95.87 %\n",
            "[14,  1600] train loss: 0.059198, avg_train_acc: 95.88 %\n",
            "[14,  1800] train loss: 0.051152, avg_train_acc: 95.89 %\n",
            "[14,  2000] train loss: 0.056604, avg_train_acc: 95.90 %\n",
            "[14,  2200] train loss: 0.053608, avg_train_acc: 95.91 %\n",
            "[14,  2400] train loss: 0.057048, avg_train_acc: 95.92 %\n",
            "[14,  2600] train loss: 0.053686, avg_train_acc: 95.93 %\n",
            "[14,  2800] train loss: 0.061030, avg_train_acc: 95.94 %\n",
            "[14,  3000] train loss: 0.056040, avg_train_acc: 95.95 %\n",
            "[14,  3200] train loss: 0.049944, avg_train_acc: 95.96 %\n",
            "[14,  3400] train loss: 0.056482, avg_train_acc: 95.97 %\n",
            "evaluation cycle\n",
            "[14,   200] val loss: 0.083639, avg_val_acc: 95.90 %\n",
            "[14,   400] val loss: 0.115413, avg_val_acc: 95.91 %\n",
            "[14,   600] val loss: 0.094709, avg_val_acc: 95.92 %\n",
            "[14,   800] val loss: 0.092892, avg_val_acc: 95.92 %\n",
            "[14,  1000] val loss: 0.077627, avg_val_acc: 95.93 %\n",
            "[14,  1200] val loss: 0.064630, avg_val_acc: 95.94 %\n",
            "[14,  1400] val loss: 0.082555, avg_val_acc: 95.95 %\n",
            "[14,  1600] val loss: 0.091945, avg_val_acc: 95.95 %\n",
            "[14,  1800] val loss: 0.086063, avg_val_acc: 95.96 %\n",
            "[14,  2000] val loss: 0.077792, avg_val_acc: 95.97 %\n",
            "[14,  2200] val loss: 0.088626, avg_val_acc: 95.98 %\n",
            "[14,  2400] val loss: 0.114110, avg_val_acc: 95.98 %\n",
            "[14,  2600] val loss: 0.094377, avg_val_acc: 95.99 %\n",
            "[14,  2800] val loss: 0.084006, avg_val_acc: 95.99 %\n",
            "[14,  3000] val loss: 0.067977, avg_val_acc: 96.00 %\n",
            "[14,  3200] val loss: 0.095443, avg_val_acc: 96.01 %\n",
            "[14,  3400] val loss: 0.093789, avg_val_acc: 96.01 %\n",
            "time spent on epoch 14: 202.09 s\n",
            "epoch 15\n",
            "training cycle\n",
            "[15,   200] train loss: 0.048185, avg_train_acc: 95.98 %\n",
            "[15,   400] train loss: 0.043310, avg_train_acc: 95.99 %\n",
            "[15,   600] train loss: 0.040852, avg_train_acc: 96.00 %\n",
            "[15,   800] train loss: 0.047410, avg_train_acc: 96.01 %\n",
            "[15,  1000] train loss: 0.053809, avg_train_acc: 96.02 %\n",
            "[15,  1200] train loss: 0.051686, avg_train_acc: 96.03 %\n",
            "[15,  1400] train loss: 0.047991, avg_train_acc: 96.04 %\n",
            "[15,  1600] train loss: 0.049757, avg_train_acc: 96.05 %\n",
            "[15,  1800] train loss: 0.058600, avg_train_acc: 96.06 %\n",
            "[15,  2000] train loss: 0.054002, avg_train_acc: 96.06 %\n",
            "[15,  2200] train loss: 0.062281, avg_train_acc: 96.07 %\n",
            "[15,  2400] train loss: 0.055284, avg_train_acc: 96.08 %\n",
            "[15,  2600] train loss: 0.049483, avg_train_acc: 96.09 %\n",
            "[15,  2800] train loss: 0.056841, avg_train_acc: 96.10 %\n",
            "[15,  3000] train loss: 0.050771, avg_train_acc: 96.10 %\n",
            "[15,  3200] train loss: 0.048965, avg_train_acc: 96.11 %\n",
            "[15,  3400] train loss: 0.042178, avg_train_acc: 96.12 %\n",
            "evaluation cycle\n",
            "[15,   200] val loss: 0.126493, avg_val_acc: 96.03 %\n",
            "[15,   400] val loss: 0.091745, avg_val_acc: 96.03 %\n",
            "[15,   600] val loss: 0.086577, avg_val_acc: 96.04 %\n",
            "[15,   800] val loss: 0.095242, avg_val_acc: 96.05 %\n",
            "[15,  1000] val loss: 0.086821, avg_val_acc: 96.06 %\n",
            "[15,  1200] val loss: 0.074662, avg_val_acc: 96.06 %\n",
            "[15,  1400] val loss: 0.075340, avg_val_acc: 96.07 %\n",
            "[15,  1600] val loss: 0.081733, avg_val_acc: 96.08 %\n",
            "[15,  1800] val loss: 0.079804, avg_val_acc: 96.08 %\n",
            "[15,  2000] val loss: 0.084981, avg_val_acc: 96.09 %\n",
            "[15,  2200] val loss: 0.078541, avg_val_acc: 96.10 %\n",
            "[15,  2400] val loss: 0.091022, avg_val_acc: 96.10 %\n",
            "[15,  2600] val loss: 0.069589, avg_val_acc: 96.11 %\n",
            "[15,  2800] val loss: 0.076404, avg_val_acc: 96.12 %\n",
            "[15,  3000] val loss: 0.085534, avg_val_acc: 96.13 %\n",
            "[15,  3200] val loss: 0.079468, avg_val_acc: 96.13 %\n",
            "[15,  3400] val loss: 0.090374, avg_val_acc: 96.14 %\n",
            "time spent on epoch 15: 202.53 s\n",
            "epoch 16\n",
            "training cycle\n",
            "[16,   200] train loss: 0.042273, avg_train_acc: 96.14 %\n",
            "[16,   400] train loss: 0.046307, avg_train_acc: 96.15 %\n",
            "[16,   600] train loss: 0.042604, avg_train_acc: 96.15 %\n",
            "[16,   800] train loss: 0.055257, avg_train_acc: 96.16 %\n",
            "[16,  1000] train loss: 0.045861, avg_train_acc: 96.17 %\n",
            "[16,  1200] train loss: 0.050714, avg_train_acc: 96.18 %\n",
            "[16,  1400] train loss: 0.050445, avg_train_acc: 96.19 %\n",
            "[16,  1600] train loss: 0.048148, avg_train_acc: 96.20 %\n",
            "[16,  1800] train loss: 0.048159, avg_train_acc: 96.20 %\n",
            "[16,  2000] train loss: 0.055672, avg_train_acc: 96.21 %\n",
            "[16,  2200] train loss: 0.057295, avg_train_acc: 96.22 %\n",
            "[16,  2400] train loss: 0.059017, avg_train_acc: 96.22 %\n",
            "[16,  2600] train loss: 0.050435, avg_train_acc: 96.23 %\n",
            "[16,  2800] train loss: 0.051781, avg_train_acc: 96.24 %\n",
            "[16,  3000] train loss: 0.045964, avg_train_acc: 96.25 %\n",
            "[16,  3200] train loss: 0.042248, avg_train_acc: 96.25 %\n",
            "[16,  3400] train loss: 0.048951, avg_train_acc: 96.26 %\n",
            "evaluation cycle\n",
            "[16,   200] val loss: 0.080299, avg_val_acc: 96.15 %\n",
            "[16,   400] val loss: 0.094361, avg_val_acc: 96.16 %\n",
            "[16,   600] val loss: 0.101984, avg_val_acc: 96.16 %\n",
            "[16,   800] val loss: 0.090814, avg_val_acc: 96.17 %\n",
            "[16,  1000] val loss: 0.074069, avg_val_acc: 96.17 %\n",
            "[16,  1200] val loss: 0.111709, avg_val_acc: 96.18 %\n",
            "[16,  1400] val loss: 0.071181, avg_val_acc: 96.19 %\n",
            "[16,  1600] val loss: 0.100931, avg_val_acc: 96.19 %\n",
            "[16,  1800] val loss: 0.079087, avg_val_acc: 96.20 %\n",
            "[16,  2000] val loss: 0.092338, avg_val_acc: 96.20 %\n",
            "[16,  2200] val loss: 0.097436, avg_val_acc: 96.21 %\n",
            "[16,  2400] val loss: 0.077647, avg_val_acc: 96.21 %\n",
            "[16,  2600] val loss: 0.089013, avg_val_acc: 96.22 %\n",
            "[16,  2800] val loss: 0.080028, avg_val_acc: 96.23 %\n",
            "[16,  3000] val loss: 0.113874, avg_val_acc: 96.23 %\n",
            "[16,  3200] val loss: 0.084928, avg_val_acc: 96.23 %\n",
            "[16,  3400] val loss: 0.108111, avg_val_acc: 96.24 %\n",
            "time spent on epoch 16: 203.36 s\n",
            "epoch 17\n",
            "training cycle\n",
            "[17,   200] train loss: 0.042879, avg_train_acc: 96.28 %\n",
            "[17,   400] train loss: 0.051815, avg_train_acc: 96.28 %\n",
            "[17,   600] train loss: 0.043726, avg_train_acc: 96.29 %\n",
            "[17,   800] train loss: 0.045984, avg_train_acc: 96.30 %\n",
            "[17,  1000] train loss: 0.051557, avg_train_acc: 96.30 %\n",
            "[17,  1200] train loss: 0.044195, avg_train_acc: 96.31 %\n",
            "[17,  1400] train loss: 0.046395, avg_train_acc: 96.32 %\n",
            "[17,  1600] train loss: 0.045256, avg_train_acc: 96.33 %\n",
            "[17,  1800] train loss: 0.045822, avg_train_acc: 96.33 %\n",
            "[17,  2000] train loss: 0.044599, avg_train_acc: 96.34 %\n",
            "[17,  2200] train loss: 0.054596, avg_train_acc: 96.35 %\n",
            "[17,  2400] train loss: 0.055292, avg_train_acc: 96.35 %\n",
            "[17,  2600] train loss: 0.047396, avg_train_acc: 96.36 %\n",
            "[17,  2800] train loss: 0.044393, avg_train_acc: 96.37 %\n",
            "[17,  3000] train loss: 0.048939, avg_train_acc: 96.37 %\n",
            "[17,  3200] train loss: 0.043822, avg_train_acc: 96.38 %\n",
            "[17,  3400] train loss: 0.055621, avg_train_acc: 96.39 %\n",
            "evaluation cycle\n",
            "[17,   200] val loss: 0.079677, avg_val_acc: 96.25 %\n",
            "[17,   400] val loss: 0.062711, avg_val_acc: 96.25 %\n",
            "[17,   600] val loss: 0.072380, avg_val_acc: 96.26 %\n",
            "[17,   800] val loss: 0.074610, avg_val_acc: 96.27 %\n",
            "[17,  1000] val loss: 0.083524, avg_val_acc: 96.27 %\n",
            "[17,  1200] val loss: 0.076769, avg_val_acc: 96.28 %\n",
            "[17,  1400] val loss: 0.068314, avg_val_acc: 96.28 %\n",
            "[17,  1600] val loss: 0.132154, avg_val_acc: 96.29 %\n",
            "[17,  1800] val loss: 0.073865, avg_val_acc: 96.29 %\n",
            "[17,  2000] val loss: 0.104373, avg_val_acc: 96.30 %\n",
            "[17,  2200] val loss: 0.101038, avg_val_acc: 96.30 %\n",
            "[17,  2400] val loss: 0.073950, avg_val_acc: 96.31 %\n",
            "[17,  2600] val loss: 0.089830, avg_val_acc: 96.31 %\n",
            "[17,  2800] val loss: 0.084271, avg_val_acc: 96.32 %\n",
            "[17,  3000] val loss: 0.090442, avg_val_acc: 96.32 %\n",
            "[17,  3200] val loss: 0.079485, avg_val_acc: 96.33 %\n",
            "[17,  3400] val loss: 0.086476, avg_val_acc: 96.34 %\n",
            "time spent on epoch 17: 204.08 s\n",
            "epoch 18\n",
            "training cycle\n",
            "[18,   200] train loss: 0.041957, avg_train_acc: 96.40 %\n",
            "[18,   400] train loss: 0.039277, avg_train_acc: 96.41 %\n",
            "[18,   600] train loss: 0.040953, avg_train_acc: 96.41 %\n",
            "[18,   800] train loss: 0.046523, avg_train_acc: 96.42 %\n",
            "[18,  1000] train loss: 0.038960, avg_train_acc: 96.43 %\n",
            "[18,  1200] train loss: 0.043333, avg_train_acc: 96.44 %\n",
            "[18,  1400] train loss: 0.048785, avg_train_acc: 96.44 %\n",
            "[18,  1600] train loss: 0.049438, avg_train_acc: 96.45 %\n",
            "[18,  1800] train loss: 0.048355, avg_train_acc: 96.45 %\n",
            "[18,  2000] train loss: 0.047264, avg_train_acc: 96.46 %\n",
            "[18,  2200] train loss: 0.042267, avg_train_acc: 96.47 %\n",
            "[18,  2400] train loss: 0.049544, avg_train_acc: 96.47 %\n",
            "[18,  2600] train loss: 0.053221, avg_train_acc: 96.48 %\n",
            "[18,  2800] train loss: 0.041004, avg_train_acc: 96.49 %\n",
            "[18,  3000] train loss: 0.041852, avg_train_acc: 96.49 %\n",
            "[18,  3200] train loss: 0.043362, avg_train_acc: 96.50 %\n",
            "[18,  3400] train loss: 0.049468, avg_train_acc: 96.50 %\n",
            "evaluation cycle\n",
            "[18,   200] val loss: 0.111691, avg_val_acc: 96.35 %\n",
            "[18,   400] val loss: 0.057772, avg_val_acc: 96.35 %\n",
            "[18,   600] val loss: 0.080188, avg_val_acc: 96.36 %\n",
            "[18,   800] val loss: 0.077378, avg_val_acc: 96.37 %\n",
            "[18,  1000] val loss: 0.095294, avg_val_acc: 96.37 %\n",
            "[18,  1200] val loss: 0.080644, avg_val_acc: 96.37 %\n",
            "[18,  1400] val loss: 0.078751, avg_val_acc: 96.38 %\n",
            "[18,  1600] val loss: 0.069050, avg_val_acc: 96.39 %\n",
            "[18,  1800] val loss: 0.067294, avg_val_acc: 96.39 %\n",
            "[18,  2000] val loss: 0.065702, avg_val_acc: 96.40 %\n",
            "[18,  2200] val loss: 0.080318, avg_val_acc: 96.40 %\n",
            "[18,  2400] val loss: 0.083430, avg_val_acc: 96.41 %\n",
            "[18,  2600] val loss: 0.094022, avg_val_acc: 96.41 %\n",
            "[18,  2800] val loss: 0.071063, avg_val_acc: 96.42 %\n",
            "[18,  3000] val loss: 0.067475, avg_val_acc: 96.42 %\n",
            "[18,  3200] val loss: 0.089551, avg_val_acc: 96.43 %\n",
            "[18,  3400] val loss: 0.076530, avg_val_acc: 96.43 %\n",
            "time spent on epoch 18: 203.90 s\n",
            "epoch 19\n",
            "training cycle\n",
            "[19,   200] train loss: 0.043049, avg_train_acc: 96.51 %\n",
            "[19,   400] train loss: 0.037559, avg_train_acc: 96.52 %\n",
            "[19,   600] train loss: 0.046331, avg_train_acc: 96.53 %\n",
            "[19,   800] train loss: 0.038987, avg_train_acc: 96.53 %\n",
            "[19,  1000] train loss: 0.042152, avg_train_acc: 96.54 %\n",
            "[19,  1200] train loss: 0.048571, avg_train_acc: 96.55 %\n",
            "[19,  1400] train loss: 0.037341, avg_train_acc: 96.55 %\n",
            "[19,  1600] train loss: 0.035300, avg_train_acc: 96.56 %\n",
            "[19,  1800] train loss: 0.044525, avg_train_acc: 96.57 %\n",
            "[19,  2000] train loss: 0.044147, avg_train_acc: 96.57 %\n",
            "[19,  2200] train loss: 0.035378, avg_train_acc: 96.58 %\n",
            "[19,  2400] train loss: 0.037676, avg_train_acc: 96.58 %\n",
            "[19,  2600] train loss: 0.041994, avg_train_acc: 96.59 %\n",
            "[19,  2800] train loss: 0.048024, avg_train_acc: 96.60 %\n",
            "[19,  3000] train loss: 0.045206, avg_train_acc: 96.60 %\n",
            "[19,  3200] train loss: 0.041558, avg_train_acc: 96.61 %\n",
            "[19,  3400] train loss: 0.048062, avg_train_acc: 96.61 %\n",
            "evaluation cycle\n",
            "[19,   200] val loss: 0.095842, avg_val_acc: 96.44 %\n",
            "[19,   400] val loss: 0.093119, avg_val_acc: 96.45 %\n",
            "[19,   600] val loss: 0.085329, avg_val_acc: 96.45 %\n",
            "[19,   800] val loss: 0.079158, avg_val_acc: 96.46 %\n",
            "[19,  1000] val loss: 0.078365, avg_val_acc: 96.46 %\n",
            "[19,  1200] val loss: 0.075661, avg_val_acc: 96.47 %\n",
            "[19,  1400] val loss: 0.116980, avg_val_acc: 96.47 %\n",
            "[19,  1600] val loss: 0.072691, avg_val_acc: 96.48 %\n",
            "[19,  1800] val loss: 0.061719, avg_val_acc: 96.48 %\n",
            "[19,  2000] val loss: 0.080009, avg_val_acc: 96.48 %\n",
            "[19,  2200] val loss: 0.086083, avg_val_acc: 96.49 %\n",
            "[19,  2400] val loss: 0.086516, avg_val_acc: 96.49 %\n",
            "[19,  2600] val loss: 0.071287, avg_val_acc: 96.50 %\n",
            "[19,  2800] val loss: 0.114659, avg_val_acc: 96.50 %\n",
            "[19,  3000] val loss: 0.095505, avg_val_acc: 96.51 %\n",
            "[19,  3200] val loss: 0.127027, avg_val_acc: 96.51 %\n",
            "[19,  3400] val loss: 0.070388, avg_val_acc: 96.51 %\n",
            "time spent on epoch 19: 203.41 s\n",
            "epoch 20\n",
            "training cycle\n",
            "[20,   200] train loss: 0.033546, avg_train_acc: 96.62 %\n",
            "[20,   400] train loss: 0.037604, avg_train_acc: 96.63 %\n",
            "[20,   600] train loss: 0.035603, avg_train_acc: 96.64 %\n",
            "[20,   800] train loss: 0.042301, avg_train_acc: 96.64 %\n",
            "[20,  1000] train loss: 0.041655, avg_train_acc: 96.65 %\n",
            "[20,  1200] train loss: 0.042672, avg_train_acc: 96.65 %\n",
            "[20,  1400] train loss: 0.041519, avg_train_acc: 96.66 %\n",
            "[20,  1600] train loss: 0.043950, avg_train_acc: 96.66 %\n",
            "[20,  1800] train loss: 0.045986, avg_train_acc: 96.67 %\n",
            "[20,  2000] train loss: 0.045659, avg_train_acc: 96.68 %\n",
            "[20,  2200] train loss: 0.041698, avg_train_acc: 96.68 %\n",
            "[20,  2400] train loss: 0.045404, avg_train_acc: 96.69 %\n",
            "[20,  2600] train loss: 0.043367, avg_train_acc: 96.69 %\n",
            "[20,  2800] train loss: 0.044096, avg_train_acc: 96.70 %\n",
            "[20,  3000] train loss: 0.039729, avg_train_acc: 96.70 %\n",
            "[20,  3200] train loss: 0.042617, avg_train_acc: 96.71 %\n",
            "[20,  3400] train loss: 0.039175, avg_train_acc: 96.71 %\n",
            "evaluation cycle\n",
            "[20,   200] val loss: 0.076789, avg_val_acc: 96.52 %\n",
            "[20,   400] val loss: 0.077485, avg_val_acc: 96.53 %\n",
            "[20,   600] val loss: 0.089039, avg_val_acc: 96.53 %\n",
            "[20,   800] val loss: 0.076498, avg_val_acc: 96.54 %\n",
            "[20,  1000] val loss: 0.103410, avg_val_acc: 96.54 %\n",
            "[20,  1200] val loss: 0.086234, avg_val_acc: 96.54 %\n",
            "[20,  1400] val loss: 0.055158, avg_val_acc: 96.55 %\n",
            "[20,  1600] val loss: 0.088522, avg_val_acc: 96.55 %\n",
            "[20,  1800] val loss: 0.079636, avg_val_acc: 96.56 %\n",
            "[20,  2000] val loss: 0.097667, avg_val_acc: 96.56 %\n",
            "[20,  2200] val loss: 0.090067, avg_val_acc: 96.56 %\n",
            "[20,  2400] val loss: 0.136058, avg_val_acc: 96.57 %\n",
            "[20,  2600] val loss: 0.105687, avg_val_acc: 96.57 %\n",
            "[20,  2800] val loss: 0.065314, avg_val_acc: 96.58 %\n",
            "[20,  3000] val loss: 0.090766, avg_val_acc: 96.58 %\n",
            "[20,  3200] val loss: 0.090184, avg_val_acc: 96.58 %\n",
            "[20,  3400] val loss: 0.090473, avg_val_acc: 96.59 %\n",
            "time spent on epoch 20: 202.78 s\n",
            "sector clear!\n"
          ],
          "name": "stdout"
        }
      ]
    },
    {
      "cell_type": "markdown",
      "metadata": {
        "id": "G501XCsAEqZ4"
      },
      "source": [
        "## Saving Model"
      ]
    },
    {
      "cell_type": "code",
      "metadata": {
        "id": "mzkt59A4Eu-h"
      },
      "source": [
        "torch.save(net, '/content/model.pth')"
      ],
      "execution_count": null,
      "outputs": []
    },
    {
      "cell_type": "code",
      "metadata": {
        "colab": {
          "base_uri": "https://localhost:8080/",
          "height": 17
        },
        "id": "KmmCGc1i3KQc",
        "outputId": "f80b198a-868d-4d35-f2ab-cc2caa7f5415"
      },
      "source": [
        "from google.colab import files\n",
        "files.download('/content/model.pth') "
      ],
      "execution_count": null,
      "outputs": [
        {
          "output_type": "display_data",
          "data": {
            "application/javascript": [
              "\n",
              "    async function download(id, filename, size) {\n",
              "      if (!google.colab.kernel.accessAllowed) {\n",
              "        return;\n",
              "      }\n",
              "      const div = document.createElement('div');\n",
              "      const label = document.createElement('label');\n",
              "      label.textContent = `Downloading \"${filename}\": `;\n",
              "      div.appendChild(label);\n",
              "      const progress = document.createElement('progress');\n",
              "      progress.max = size;\n",
              "      div.appendChild(progress);\n",
              "      document.body.appendChild(div);\n",
              "\n",
              "      const buffers = [];\n",
              "      let downloaded = 0;\n",
              "\n",
              "      const channel = await google.colab.kernel.comms.open(id);\n",
              "      // Send a message to notify the kernel that we're ready.\n",
              "      channel.send({})\n",
              "\n",
              "      for await (const message of channel.messages) {\n",
              "        // Send a message to notify the kernel that we're ready.\n",
              "        channel.send({})\n",
              "        if (message.buffers) {\n",
              "          for (const buffer of message.buffers) {\n",
              "            buffers.push(buffer);\n",
              "            downloaded += buffer.byteLength;\n",
              "            progress.value = downloaded;\n",
              "          }\n",
              "        }\n",
              "      }\n",
              "      const blob = new Blob(buffers, {type: 'application/binary'});\n",
              "      const a = document.createElement('a');\n",
              "      a.href = window.URL.createObjectURL(blob);\n",
              "      a.download = filename;\n",
              "      div.appendChild(a);\n",
              "      a.click();\n",
              "      div.remove();\n",
              "    }\n",
              "  "
            ],
            "text/plain": [
              "<IPython.core.display.Javascript object>"
            ]
          },
          "metadata": {
            "tags": []
          }
        },
        {
          "output_type": "display_data",
          "data": {
            "application/javascript": [
              "download(\"download_05ebc212-1d43-444d-aaf2-1f2f58583867\", \"model.pth\", 399135)"
            ],
            "text/plain": [
              "<IPython.core.display.Javascript object>"
            ]
          },
          "metadata": {
            "tags": []
          }
        }
      ]
    },
    {
      "cell_type": "code",
      "metadata": {
        "id": "UJKijf1GFsMW"
      },
      "source": [
        "net = torch.load('/content/model.pth')"
      ],
      "execution_count": null,
      "outputs": []
    },
    {
      "cell_type": "markdown",
      "metadata": {
        "id": "15Ic7eBOGZnc"
      },
      "source": [
        "or"
      ]
    },
    {
      "cell_type": "code",
      "metadata": {
        "id": "1y7-SC47Gb9y"
      },
      "source": [
        "torch.save(net.state_dict(), '/content/model_state_dict.pth')"
      ],
      "execution_count": null,
      "outputs": []
    },
    {
      "cell_type": "code",
      "metadata": {
        "colab": {
          "base_uri": "https://localhost:8080/"
        },
        "id": "pLb3dxceFfCI",
        "outputId": "b84a2844-3b9f-4913-dfcc-618956b85681"
      },
      "source": [
        "net = skynet3()\n",
        "net.load_state_dict(torch.load('/content/model_state_dict.pth'))"
      ],
      "execution_count": null,
      "outputs": [
        {
          "output_type": "execute_result",
          "data": {
            "text/plain": [
              "<All keys matched successfully>"
            ]
          },
          "metadata": {
            "tags": []
          },
          "execution_count": 79
        }
      ]
    },
    {
      "cell_type": "markdown",
      "metadata": {
        "id": "F4pos4OKUww8"
      },
      "source": [
        "##Post-training analysis"
      ]
    },
    {
      "cell_type": "code",
      "metadata": {
        "colab": {
          "base_uri": "https://localhost:8080/",
          "height": 640
        },
        "id": "YSJfm-neRri1",
        "outputId": "d9968236-0fc7-4984-d05c-b366a6e855b1"
      },
      "source": [
        "tloss_plt_epoch = tloss_plt[0::int(epoch_count_train / 50)]\n",
        "vloss_plt_epoch = vloss_plt[0::int(epoch_count_val / 50)]\n",
        "print(len(tloss_plt_epoch), len(vloss_plt_epoch))\n",
        "plt.figure(figsize=[10, 10])\n",
        "plt.plot(tloss_plt_epoch,label='train loss')\n",
        "plt.plot(vloss_plt_epoch,label='validation loss')\n",
        "plt.xlabel('epoch')\n",
        "plt.ylabel('loss')\n",
        "plt.legend(loc='upper right')"
      ],
      "execution_count": null,
      "outputs": [
        {
          "output_type": "stream",
          "text": [
            "20 13\n"
          ],
          "name": "stdout"
        },
        {
          "output_type": "execute_result",
          "data": {
            "text/plain": [
              "<matplotlib.legend.Legend at 0x7fa0405cccf8>"
            ]
          },
          "metadata": {
            "tags": []
          },
          "execution_count": 29
        },
        {
          "output_type": "display_data",
          "data": {
            "image/png": "[encoded data removed]",
            "text/plain": [
              "<Figure size 720x720 with 1 Axes>"
            ]
          },
          "metadata": {
            "tags": []
          }
        }
      ]
    },
    {
      "cell_type": "code",
      "metadata": {
        "colab": {
          "base_uri": "https://localhost:8080/",
          "height": 836
        },
        "id": "32bxewjBR0WD",
        "outputId": "5c2b0da4-cd80-47e6-b1d8-04fa48a2ccd5"
      },
      "source": [
        "valloader_prediction = torch.utils.data.DataLoader(valset, batch_size=batch_size, shuffle=True, num_workers=2)\n",
        "\n",
        "dataiter = iter(valloader_prediction)\n",
        "images, labels = dataiter.next()\n",
        "\n",
        "imshow(torchvision.utils.make_grid(images))\n",
        "print('ground truth labels:')\n",
        "for k in range(batchrow):\n",
        "  print('\\t'.join('%5s' % classes[labels[j]] for j in range(k * 8, (k + 1) * 8)),end='\\n\\n')\n",
        "  k += 1\n",
        "\n",
        "outputs = net(images)\n",
        "\n",
        "_,predicted = torch.max(outputs, 1)\n",
        "print('predicted:')\n",
        "for k in range(batchrow):\n",
        "  print('\\t'.join('%5s' % classes[predicted[j]] for j in range(k * 8, (k + 1) * 8)),end='\\n\\n')\n",
        "  k += 1"
      ],
      "execution_count": null,
      "outputs": [
        {
          "output_type": "stream",
          "text": [
            "Clipping input data to the valid range for imshow with RGB data ([0..1] for floats or [0..255] for integers).\n"
          ],
          "name": "stderr"
        },
        {
          "output_type": "stream",
          "text": [
            "ground truth labels:\n",
            "    i\t    j\t    +\t    +\t    +\t    0\t  leq\t    -\n",
            "\n",
            "    =\t    +\t   pi\t    -\t    4\t  tan\t  log\t    X\n",
            "\n",
            "    2\t    -\t    +\t   pi\t    T\t    +\t    e\t  sin\n",
            "\n",
            "    (\ttimes\t    -\t    0\t    -\t    R\t    (\t    N\n",
            "\n",
            "    3\t    N\t    -\t    -\t    i\t    1\t    2\t    e\n",
            "\n",
            "    )\t sqrt\ttheta\t sqrt\t    z\t    -\t    A\t    -\n",
            "\n",
            "    -\t    =\t    )\t    9\t    X\t    5\t    X\t    8\n",
            "\n",
            "  int\t    )\t    5\t    1\t    T\t    k\t    X\t    -\n",
            "\n",
            "predicted:\n",
            "    i\t    j\t    +\t    +\t    +\t    0\t  leq\t    -\n",
            "\n",
            "    =\t    +\t   pi\t    -\t    4\t  tan\t  log\t    X\n",
            "\n",
            "    2\t    -\t    +\t   pi\t    T\t    +\t    e\t  sin\n",
            "\n",
            "    (\ttimes\t    -\t    0\t    -\t    R\t    (\t    N\n",
            "\n",
            "    3\t    N\t    -\t    -\t    i\t    1\t    2\t    e\n",
            "\n",
            "    )\t sqrt\ttheta\t sqrt\t    z\t    -\t    A\t    -\n",
            "\n",
            "    -\t    =\t    )\t    9\t    X\t    5\t    X\t    8\n",
            "\n",
            "  int\t    )\t    5\t    1\t    T\t    k\t    X\t    -\n",
            "\n"
          ],
          "name": "stdout"
        },
        {
          "output_type": "display_data",
          "data": {
            "image/png": "[encoded data removed]",
            "text/plain": [
              "<Figure size 432x288 with 1 Axes>"
            ]
          },
          "metadata": {
            "tags": [],
            "needs_background": "light"
          }
        }
      ]
    },
    {
      "cell_type": "code",
      "metadata": {
        "colab": {
          "base_uri": "https://localhost:8080/",
          "height": 626
        },
        "id": "ido6hjlsSNWc",
        "outputId": "de214308-1269-44c0-e6dc-31463457caab"
      },
      "source": [
        "print(len(train_acc_plot),len(val_acc_plot))\n",
        "plt.figure(figsize=[10, 10])\n",
        "plt.plot(val_acc_plot,label='validation set accuracy')\n",
        "plt.plot(train_acc_plot,label='train set accuracy')\n",
        "plt.legend(loc='upper right')\n",
        "plt.ylabel('accuracy,%')"
      ],
      "execution_count": null,
      "outputs": [
        {
          "output_type": "stream",
          "text": [
            "340 340\n"
          ],
          "name": "stdout"
        },
        {
          "output_type": "execute_result",
          "data": {
            "text/plain": [
              "Text(0, 0.5, 'accuracy,%')"
            ]
          },
          "metadata": {
            "tags": []
          },
          "execution_count": 27
        },
        {
          "output_type": "display_data",
          "data": {
            "image/png": "[encoded data removed]",
            "text/plain": [
              "<Figure size 720x720 with 1 Axes>"
            ]
          },
          "metadata": {
            "tags": []
          }
        }
      ]
    },
    {
      "cell_type": "code",
      "metadata": {
        "id": "9ZmghuTqSTcn"
      },
      "source": [
        "correct_val = 0\n",
        "total_val = 0\n",
        "avg_val_acc = 0.0\n",
        "avg_loss_val = 0.0\n",
        "\n",
        "with torch.no_grad():\n",
        "    for data in valloader:\n",
        "        images, labels = data\n",
        "        outputs = net(images)\n",
        "\n",
        "        _, predicted_val = torch.max(outputs.data, 1)\n",
        "        total_val += labels.size(0)\n",
        "        correct_val += (predicted_val == labels).sum().item()\n",
        "        avg_val_acc = 100 * correct_val / total_val\n",
        "\n",
        "print('validation accuracy %.2f %%, error rate %.2f %%' % (avg_val_acc, 100 - avg_val_acc))"
      ],
      "execution_count": null,
      "outputs": []
    },
    {
      "cell_type": "code",
      "metadata": {
        "colab": {
          "base_uri": "https://localhost:8080/"
        },
        "id": "a91pub4jSUXF",
        "outputId": "24e8dedd-0da4-4d2e-a59c-2c2b1e4dadc2"
      },
      "source": [
        "correct_test = 0\n",
        "total_test = 0\n",
        "avg_test_acc = 0.0\n",
        "avg_loss_test = 0.0\n",
        "\n",
        "with torch.no_grad():\n",
        "    for data in testloader:\n",
        "        images, labels = data\n",
        "        outputs = net(images)\n",
        "\n",
        "        _, predicted_test = torch.max(outputs.data, 1)\n",
        "        total_test += labels.size(0)\n",
        "        correct_test += (predicted_test == labels).sum().item()\n",
        "        avg_test_acc = 100 * correct_test / total_test\n",
        "\n",
        "print('test accuracy %.2f %%, error rate %.2f %%' % (avg_test_acc, 100 - avg_test_acc))"
      ],
      "execution_count": null,
      "outputs": [
        {
          "output_type": "stream",
          "text": [
            "test accuracy 98.10 %, error rate 1.90 %\n"
          ],
          "name": "stdout"
        }
      ]
    },
    {
      "cell_type": "markdown",
      "metadata": {
        "id": "hnkizx0mjuPX"
      },
      "source": [
        "##Confusion matrix"
      ]
    },
    {
      "cell_type": "code",
      "metadata": {
        "id": "zx1e7J7gjVbu"
      },
      "source": [
        "#inspired by https://deeplizard.com/learn/video/0LhiS6yu2qQ\n",
        "def get_predictions(model, loader):\n",
        "  predictions = torch.Tensor([])\n",
        "  ground_truth = torch.tensor([])\n",
        "\n",
        "  with torch.no_grad():\n",
        "    for i, data in enumerate(loader, 0):\n",
        "      images, targets = data\n",
        "      gound_truth = torch.cat((ground_truth, targets), dim=0)\n",
        "      net_pred = model(images)\n",
        "      predictions = torch.cat((predictions, net_pred), dim=0)\n",
        "      \n",
        "      if i % 10000 == 9999:\n",
        "        print(\"%d images processed \\n\" % (i + 1))\n",
        "\n",
        "  return predictions, ground_truth"
      ],
      "execution_count": null,
      "outputs": []
    },
    {
      "cell_type": "code",
      "metadata": {
        "colab": {
          "base_uri": "https://localhost:8080/",
          "height": 320
        },
        "id": "6sBvlgL7jfkX",
        "outputId": "c31c3631-b373-4394-c708-749acaa82392"
      },
      "source": [
        "confmat_loader = torch.utils.data.DataLoader(dataset_util, batch_size=1, shuffle=False, num_workers=2)\n",
        "predictions, ground_truth = get_predictions(net, confmat_loader)"
      ],
      "execution_count": null,
      "outputs": [
        {
          "output_type": "error",
          "ename": "KeyboardInterrupt",
          "evalue": "ignored",
          "traceback": [
            "\u001b[0;31m---------------------------------------------------------------------------\u001b[0m",
            "\u001b[0;31mKeyboardInterrupt\u001b[0m                         Traceback (most recent call last)",
            "\u001b[0;32m<ipython-input-82-b5ba38d1aec1>\u001b[0m in \u001b[0;36m<module>\u001b[0;34m()\u001b[0m\n\u001b[1;32m      1\u001b[0m \u001b[0mconfmat_loader\u001b[0m \u001b[0;34m=\u001b[0m \u001b[0mtorch\u001b[0m\u001b[0;34m.\u001b[0m\u001b[0mutils\u001b[0m\u001b[0;34m.\u001b[0m\u001b[0mdata\u001b[0m\u001b[0;34m.\u001b[0m\u001b[0mDataLoader\u001b[0m\u001b[0;34m(\u001b[0m\u001b[0mdataset_util\u001b[0m\u001b[0;34m,\u001b[0m \u001b[0mbatch_size\u001b[0m\u001b[0;34m=\u001b[0m\u001b[0;36m1\u001b[0m\u001b[0;34m,\u001b[0m \u001b[0mshuffle\u001b[0m\u001b[0;34m=\u001b[0m\u001b[0;32mFalse\u001b[0m\u001b[0;34m,\u001b[0m \u001b[0mnum_workers\u001b[0m\u001b[0;34m=\u001b[0m\u001b[0;36m2\u001b[0m\u001b[0;34m)\u001b[0m\u001b[0;34m\u001b[0m\u001b[0;34m\u001b[0m\u001b[0m\n\u001b[0;32m----> 2\u001b[0;31m \u001b[0mpredictions\u001b[0m\u001b[0;34m,\u001b[0m \u001b[0mground_truth\u001b[0m \u001b[0;34m=\u001b[0m \u001b[0mget_predictions\u001b[0m\u001b[0;34m(\u001b[0m\u001b[0mnet\u001b[0m\u001b[0;34m,\u001b[0m \u001b[0mconfmat_loader\u001b[0m\u001b[0;34m)\u001b[0m\u001b[0;34m\u001b[0m\u001b[0;34m\u001b[0m\u001b[0m\n\u001b[0m",
            "\u001b[0;32m<ipython-input-81-bd57512d4f53>\u001b[0m in \u001b[0;36mget_predictions\u001b[0;34m(model, loader)\u001b[0m\n\u001b[1;32m      5\u001b[0m \u001b[0;34m\u001b[0m\u001b[0m\n\u001b[1;32m      6\u001b[0m   \u001b[0;32mwith\u001b[0m \u001b[0mtorch\u001b[0m\u001b[0;34m.\u001b[0m\u001b[0mno_grad\u001b[0m\u001b[0;34m(\u001b[0m\u001b[0;34m)\u001b[0m\u001b[0;34m:\u001b[0m\u001b[0;34m\u001b[0m\u001b[0;34m\u001b[0m\u001b[0m\n\u001b[0;32m----> 7\u001b[0;31m     \u001b[0;32mfor\u001b[0m \u001b[0mi\u001b[0m\u001b[0;34m,\u001b[0m \u001b[0mdata\u001b[0m \u001b[0;32min\u001b[0m \u001b[0menumerate\u001b[0m\u001b[0;34m(\u001b[0m\u001b[0mloader\u001b[0m\u001b[0;34m,\u001b[0m \u001b[0;36m0\u001b[0m\u001b[0;34m)\u001b[0m\u001b[0;34m:\u001b[0m\u001b[0;34m\u001b[0m\u001b[0;34m\u001b[0m\u001b[0m\n\u001b[0m\u001b[1;32m      8\u001b[0m       \u001b[0mimages\u001b[0m\u001b[0;34m,\u001b[0m \u001b[0mtargets\u001b[0m \u001b[0;34m=\u001b[0m \u001b[0mdata\u001b[0m\u001b[0;34m\u001b[0m\u001b[0;34m\u001b[0m\u001b[0m\n\u001b[1;32m      9\u001b[0m       \u001b[0mgound_truth\u001b[0m \u001b[0;34m=\u001b[0m \u001b[0mtorch\u001b[0m\u001b[0;34m.\u001b[0m\u001b[0mcat\u001b[0m\u001b[0;34m(\u001b[0m\u001b[0;34m(\u001b[0m\u001b[0mground_truth\u001b[0m\u001b[0;34m,\u001b[0m \u001b[0mtargets\u001b[0m\u001b[0;34m)\u001b[0m\u001b[0;34m,\u001b[0m \u001b[0mdim\u001b[0m\u001b[0;34m=\u001b[0m\u001b[0;36m0\u001b[0m\u001b[0;34m)\u001b[0m\u001b[0;34m\u001b[0m\u001b[0;34m\u001b[0m\u001b[0m\n",
            "\u001b[0;32m/usr/local/lib/python3.6/dist-packages/torch/utils/data/dataloader.py\u001b[0m in \u001b[0;36m__next__\u001b[0;34m(self)\u001b[0m\n\u001b[1;32m    433\u001b[0m         \u001b[0;32mif\u001b[0m \u001b[0mself\u001b[0m\u001b[0;34m.\u001b[0m\u001b[0m_sampler_iter\u001b[0m \u001b[0;32mis\u001b[0m \u001b[0;32mNone\u001b[0m\u001b[0;34m:\u001b[0m\u001b[0;34m\u001b[0m\u001b[0;34m\u001b[0m\u001b[0m\n\u001b[1;32m    434\u001b[0m             \u001b[0mself\u001b[0m\u001b[0;34m.\u001b[0m\u001b[0m_reset\u001b[0m\u001b[0;34m(\u001b[0m\u001b[0;34m)\u001b[0m\u001b[0;34m\u001b[0m\u001b[0;34m\u001b[0m\u001b[0m\n\u001b[0;32m--> 435\u001b[0;31m         \u001b[0mdata\u001b[0m \u001b[0;34m=\u001b[0m \u001b[0mself\u001b[0m\u001b[0;34m.\u001b[0m\u001b[0m_next_data\u001b[0m\u001b[0;34m(\u001b[0m\u001b[0;34m)\u001b[0m\u001b[0;34m\u001b[0m\u001b[0;34m\u001b[0m\u001b[0m\n\u001b[0m\u001b[1;32m    436\u001b[0m         \u001b[0mself\u001b[0m\u001b[0;34m.\u001b[0m\u001b[0m_num_yielded\u001b[0m \u001b[0;34m+=\u001b[0m \u001b[0;36m1\u001b[0m\u001b[0;34m\u001b[0m\u001b[0;34m\u001b[0m\u001b[0m\n\u001b[1;32m    437\u001b[0m         \u001b[0;32mif\u001b[0m \u001b[0mself\u001b[0m\u001b[0;34m.\u001b[0m\u001b[0m_dataset_kind\u001b[0m \u001b[0;34m==\u001b[0m \u001b[0m_DatasetKind\u001b[0m\u001b[0;34m.\u001b[0m\u001b[0mIterable\u001b[0m \u001b[0;32mand\u001b[0m\u001b[0;31m \u001b[0m\u001b[0;31m\\\u001b[0m\u001b[0;34m\u001b[0m\u001b[0;34m\u001b[0m\u001b[0m\n",
            "\u001b[0;32m/usr/local/lib/python3.6/dist-packages/torch/utils/data/dataloader.py\u001b[0m in \u001b[0;36m_next_data\u001b[0;34m(self)\u001b[0m\n\u001b[1;32m   1066\u001b[0m \u001b[0;34m\u001b[0m\u001b[0m\n\u001b[1;32m   1067\u001b[0m             \u001b[0;32massert\u001b[0m \u001b[0;32mnot\u001b[0m \u001b[0mself\u001b[0m\u001b[0;34m.\u001b[0m\u001b[0m_shutdown\u001b[0m \u001b[0;32mand\u001b[0m \u001b[0mself\u001b[0m\u001b[0;34m.\u001b[0m\u001b[0m_tasks_outstanding\u001b[0m \u001b[0;34m>\u001b[0m \u001b[0;36m0\u001b[0m\u001b[0;34m\u001b[0m\u001b[0;34m\u001b[0m\u001b[0m\n\u001b[0;32m-> 1068\u001b[0;31m             \u001b[0midx\u001b[0m\u001b[0;34m,\u001b[0m \u001b[0mdata\u001b[0m \u001b[0;34m=\u001b[0m \u001b[0mself\u001b[0m\u001b[0;34m.\u001b[0m\u001b[0m_get_data\u001b[0m\u001b[0;34m(\u001b[0m\u001b[0;34m)\u001b[0m\u001b[0;34m\u001b[0m\u001b[0;34m\u001b[0m\u001b[0m\n\u001b[0m\u001b[1;32m   1069\u001b[0m             \u001b[0mself\u001b[0m\u001b[0;34m.\u001b[0m\u001b[0m_tasks_outstanding\u001b[0m \u001b[0;34m-=\u001b[0m \u001b[0;36m1\u001b[0m\u001b[0;34m\u001b[0m\u001b[0;34m\u001b[0m\u001b[0m\n\u001b[1;32m   1070\u001b[0m             \u001b[0;32mif\u001b[0m \u001b[0mself\u001b[0m\u001b[0;34m.\u001b[0m\u001b[0m_dataset_kind\u001b[0m \u001b[0;34m==\u001b[0m \u001b[0m_DatasetKind\u001b[0m\u001b[0;34m.\u001b[0m\u001b[0mIterable\u001b[0m\u001b[0;34m:\u001b[0m\u001b[0;34m\u001b[0m\u001b[0;34m\u001b[0m\u001b[0m\n",
            "\u001b[0;32m/usr/local/lib/python3.6/dist-packages/torch/utils/data/dataloader.py\u001b[0m in \u001b[0;36m_get_data\u001b[0;34m(self)\u001b[0m\n\u001b[1;32m   1032\u001b[0m         \u001b[0;32melse\u001b[0m\u001b[0;34m:\u001b[0m\u001b[0;34m\u001b[0m\u001b[0;34m\u001b[0m\u001b[0m\n\u001b[1;32m   1033\u001b[0m             \u001b[0;32mwhile\u001b[0m \u001b[0;32mTrue\u001b[0m\u001b[0;34m:\u001b[0m\u001b[0;34m\u001b[0m\u001b[0;34m\u001b[0m\u001b[0m\n\u001b[0;32m-> 1034\u001b[0;31m                 \u001b[0msuccess\u001b[0m\u001b[0;34m,\u001b[0m \u001b[0mdata\u001b[0m \u001b[0;34m=\u001b[0m \u001b[0mself\u001b[0m\u001b[0;34m.\u001b[0m\u001b[0m_try_get_data\u001b[0m\u001b[0;34m(\u001b[0m\u001b[0;34m)\u001b[0m\u001b[0;34m\u001b[0m\u001b[0;34m\u001b[0m\u001b[0m\n\u001b[0m\u001b[1;32m   1035\u001b[0m                 \u001b[0;32mif\u001b[0m \u001b[0msuccess\u001b[0m\u001b[0;34m:\u001b[0m\u001b[0;34m\u001b[0m\u001b[0;34m\u001b[0m\u001b[0m\n\u001b[1;32m   1036\u001b[0m                     \u001b[0;32mreturn\u001b[0m \u001b[0mdata\u001b[0m\u001b[0;34m\u001b[0m\u001b[0;34m\u001b[0m\u001b[0m\n",
            "\u001b[0;32m/usr/local/lib/python3.6/dist-packages/torch/utils/data/dataloader.py\u001b[0m in \u001b[0;36m_try_get_data\u001b[0;34m(self, timeout)\u001b[0m\n\u001b[1;32m    870\u001b[0m         \u001b[0;31m#   (bool: whether successfully get data, any: data if successful else None)\u001b[0m\u001b[0;34m\u001b[0m\u001b[0;34m\u001b[0m\u001b[0;34m\u001b[0m\u001b[0m\n\u001b[1;32m    871\u001b[0m         \u001b[0;32mtry\u001b[0m\u001b[0;34m:\u001b[0m\u001b[0;34m\u001b[0m\u001b[0;34m\u001b[0m\u001b[0m\n\u001b[0;32m--> 872\u001b[0;31m             \u001b[0mdata\u001b[0m \u001b[0;34m=\u001b[0m \u001b[0mself\u001b[0m\u001b[0;34m.\u001b[0m\u001b[0m_data_queue\u001b[0m\u001b[0;34m.\u001b[0m\u001b[0mget\u001b[0m\u001b[0;34m(\u001b[0m\u001b[0mtimeout\u001b[0m\u001b[0;34m=\u001b[0m\u001b[0mtimeout\u001b[0m\u001b[0;34m)\u001b[0m\u001b[0;34m\u001b[0m\u001b[0;34m\u001b[0m\u001b[0m\n\u001b[0m\u001b[1;32m    873\u001b[0m             \u001b[0;32mreturn\u001b[0m \u001b[0;34m(\u001b[0m\u001b[0;32mTrue\u001b[0m\u001b[0;34m,\u001b[0m \u001b[0mdata\u001b[0m\u001b[0;34m)\u001b[0m\u001b[0;34m\u001b[0m\u001b[0;34m\u001b[0m\u001b[0m\n\u001b[1;32m    874\u001b[0m         \u001b[0;32mexcept\u001b[0m \u001b[0mException\u001b[0m \u001b[0;32mas\u001b[0m \u001b[0me\u001b[0m\u001b[0;34m:\u001b[0m\u001b[0;34m\u001b[0m\u001b[0;34m\u001b[0m\u001b[0m\n",
            "\u001b[0;32m/usr/lib/python3.6/multiprocessing/queues.py\u001b[0m in \u001b[0;36mget\u001b[0;34m(self, block, timeout)\u001b[0m\n\u001b[1;32m    111\u001b[0m                 \u001b[0mself\u001b[0m\u001b[0;34m.\u001b[0m\u001b[0m_rlock\u001b[0m\u001b[0;34m.\u001b[0m\u001b[0mrelease\u001b[0m\u001b[0;34m(\u001b[0m\u001b[0;34m)\u001b[0m\u001b[0;34m\u001b[0m\u001b[0;34m\u001b[0m\u001b[0m\n\u001b[1;32m    112\u001b[0m         \u001b[0;31m# unserialize the data after having released the lock\u001b[0m\u001b[0;34m\u001b[0m\u001b[0;34m\u001b[0m\u001b[0;34m\u001b[0m\u001b[0m\n\u001b[0;32m--> 113\u001b[0;31m         \u001b[0;32mreturn\u001b[0m \u001b[0m_ForkingPickler\u001b[0m\u001b[0;34m.\u001b[0m\u001b[0mloads\u001b[0m\u001b[0;34m(\u001b[0m\u001b[0mres\u001b[0m\u001b[0;34m)\u001b[0m\u001b[0;34m\u001b[0m\u001b[0;34m\u001b[0m\u001b[0m\n\u001b[0m\u001b[1;32m    114\u001b[0m \u001b[0;34m\u001b[0m\u001b[0m\n\u001b[1;32m    115\u001b[0m     \u001b[0;32mdef\u001b[0m \u001b[0mqsize\u001b[0m\u001b[0;34m(\u001b[0m\u001b[0mself\u001b[0m\u001b[0;34m)\u001b[0m\u001b[0;34m:\u001b[0m\u001b[0;34m\u001b[0m\u001b[0;34m\u001b[0m\u001b[0m\n",
            "\u001b[0;32m/usr/local/lib/python3.6/dist-packages/torch/multiprocessing/reductions.py\u001b[0m in \u001b[0;36mrebuild_storage_fd\u001b[0;34m(cls, df, size)\u001b[0m\n\u001b[1;32m    280\u001b[0m \u001b[0;34m\u001b[0m\u001b[0m\n\u001b[1;32m    281\u001b[0m \u001b[0;32mdef\u001b[0m \u001b[0mrebuild_storage_fd\u001b[0m\u001b[0;34m(\u001b[0m\u001b[0mcls\u001b[0m\u001b[0;34m,\u001b[0m \u001b[0mdf\u001b[0m\u001b[0;34m,\u001b[0m \u001b[0msize\u001b[0m\u001b[0;34m)\u001b[0m\u001b[0;34m:\u001b[0m\u001b[0;34m\u001b[0m\u001b[0;34m\u001b[0m\u001b[0m\n\u001b[0;32m--> 282\u001b[0;31m     \u001b[0mfd\u001b[0m \u001b[0;34m=\u001b[0m \u001b[0mdf\u001b[0m\u001b[0;34m.\u001b[0m\u001b[0mdetach\u001b[0m\u001b[0;34m(\u001b[0m\u001b[0;34m)\u001b[0m\u001b[0;34m\u001b[0m\u001b[0;34m\u001b[0m\u001b[0m\n\u001b[0m\u001b[1;32m    283\u001b[0m     \u001b[0;32mtry\u001b[0m\u001b[0;34m:\u001b[0m\u001b[0;34m\u001b[0m\u001b[0;34m\u001b[0m\u001b[0m\n\u001b[1;32m    284\u001b[0m         \u001b[0mstorage\u001b[0m \u001b[0;34m=\u001b[0m \u001b[0mstorage_from_cache\u001b[0m\u001b[0;34m(\u001b[0m\u001b[0mcls\u001b[0m\u001b[0;34m,\u001b[0m \u001b[0mfd_id\u001b[0m\u001b[0;34m(\u001b[0m\u001b[0mfd\u001b[0m\u001b[0;34m)\u001b[0m\u001b[0;34m)\u001b[0m\u001b[0;34m\u001b[0m\u001b[0;34m\u001b[0m\u001b[0m\n",
            "\u001b[0;32m/usr/lib/python3.6/multiprocessing/resource_sharer.py\u001b[0m in \u001b[0;36mdetach\u001b[0;34m(self)\u001b[0m\n\u001b[1;32m     55\u001b[0m         \u001b[0;32mdef\u001b[0m \u001b[0mdetach\u001b[0m\u001b[0;34m(\u001b[0m\u001b[0mself\u001b[0m\u001b[0;34m)\u001b[0m\u001b[0;34m:\u001b[0m\u001b[0;34m\u001b[0m\u001b[0;34m\u001b[0m\u001b[0m\n\u001b[1;32m     56\u001b[0m             \u001b[0;34m'''Get the fd.  This should only be called once.'''\u001b[0m\u001b[0;34m\u001b[0m\u001b[0;34m\u001b[0m\u001b[0m\n\u001b[0;32m---> 57\u001b[0;31m             \u001b[0;32mwith\u001b[0m \u001b[0m_resource_sharer\u001b[0m\u001b[0;34m.\u001b[0m\u001b[0mget_connection\u001b[0m\u001b[0;34m(\u001b[0m\u001b[0mself\u001b[0m\u001b[0;34m.\u001b[0m\u001b[0m_id\u001b[0m\u001b[0;34m)\u001b[0m \u001b[0;32mas\u001b[0m \u001b[0mconn\u001b[0m\u001b[0;34m:\u001b[0m\u001b[0;34m\u001b[0m\u001b[0;34m\u001b[0m\u001b[0m\n\u001b[0m\u001b[1;32m     58\u001b[0m                 \u001b[0;32mreturn\u001b[0m \u001b[0mreduction\u001b[0m\u001b[0;34m.\u001b[0m\u001b[0mrecv_handle\u001b[0m\u001b[0;34m(\u001b[0m\u001b[0mconn\u001b[0m\u001b[0;34m)\u001b[0m\u001b[0;34m\u001b[0m\u001b[0;34m\u001b[0m\u001b[0m\n\u001b[1;32m     59\u001b[0m \u001b[0;34m\u001b[0m\u001b[0m\n",
            "\u001b[0;32m/usr/lib/python3.6/multiprocessing/resource_sharer.py\u001b[0m in \u001b[0;36mget_connection\u001b[0;34m(ident)\u001b[0m\n\u001b[1;32m     85\u001b[0m         \u001b[0;32mfrom\u001b[0m \u001b[0;34m.\u001b[0m\u001b[0mconnection\u001b[0m \u001b[0;32mimport\u001b[0m \u001b[0mClient\u001b[0m\u001b[0;34m\u001b[0m\u001b[0;34m\u001b[0m\u001b[0m\n\u001b[1;32m     86\u001b[0m         \u001b[0maddress\u001b[0m\u001b[0;34m,\u001b[0m \u001b[0mkey\u001b[0m \u001b[0;34m=\u001b[0m \u001b[0mident\u001b[0m\u001b[0;34m\u001b[0m\u001b[0;34m\u001b[0m\u001b[0m\n\u001b[0;32m---> 87\u001b[0;31m         \u001b[0mc\u001b[0m \u001b[0;34m=\u001b[0m \u001b[0mClient\u001b[0m\u001b[0;34m(\u001b[0m\u001b[0maddress\u001b[0m\u001b[0;34m,\u001b[0m \u001b[0mauthkey\u001b[0m\u001b[0;34m=\u001b[0m\u001b[0mprocess\u001b[0m\u001b[0;34m.\u001b[0m\u001b[0mcurrent_process\u001b[0m\u001b[0;34m(\u001b[0m\u001b[0;34m)\u001b[0m\u001b[0;34m.\u001b[0m\u001b[0mauthkey\u001b[0m\u001b[0;34m)\u001b[0m\u001b[0;34m\u001b[0m\u001b[0;34m\u001b[0m\u001b[0m\n\u001b[0m\u001b[1;32m     88\u001b[0m         \u001b[0mc\u001b[0m\u001b[0;34m.\u001b[0m\u001b[0msend\u001b[0m\u001b[0;34m(\u001b[0m\u001b[0;34m(\u001b[0m\u001b[0mkey\u001b[0m\u001b[0;34m,\u001b[0m \u001b[0mos\u001b[0m\u001b[0;34m.\u001b[0m\u001b[0mgetpid\u001b[0m\u001b[0;34m(\u001b[0m\u001b[0;34m)\u001b[0m\u001b[0;34m)\u001b[0m\u001b[0;34m)\u001b[0m\u001b[0;34m\u001b[0m\u001b[0;34m\u001b[0m\u001b[0m\n\u001b[1;32m     89\u001b[0m         \u001b[0;32mreturn\u001b[0m \u001b[0mc\u001b[0m\u001b[0;34m\u001b[0m\u001b[0;34m\u001b[0m\u001b[0m\n",
            "\u001b[0;32m/usr/lib/python3.6/multiprocessing/connection.py\u001b[0m in \u001b[0;36mClient\u001b[0;34m(address, family, authkey)\u001b[0m\n\u001b[1;32m    491\u001b[0m \u001b[0;34m\u001b[0m\u001b[0m\n\u001b[1;32m    492\u001b[0m     \u001b[0;32mif\u001b[0m \u001b[0mauthkey\u001b[0m \u001b[0;32mis\u001b[0m \u001b[0;32mnot\u001b[0m \u001b[0;32mNone\u001b[0m\u001b[0;34m:\u001b[0m\u001b[0;34m\u001b[0m\u001b[0;34m\u001b[0m\u001b[0m\n\u001b[0;32m--> 493\u001b[0;31m         \u001b[0manswer_challenge\u001b[0m\u001b[0;34m(\u001b[0m\u001b[0mc\u001b[0m\u001b[0;34m,\u001b[0m \u001b[0mauthkey\u001b[0m\u001b[0;34m)\u001b[0m\u001b[0;34m\u001b[0m\u001b[0;34m\u001b[0m\u001b[0m\n\u001b[0m\u001b[1;32m    494\u001b[0m         \u001b[0mdeliver_challenge\u001b[0m\u001b[0;34m(\u001b[0m\u001b[0mc\u001b[0m\u001b[0;34m,\u001b[0m \u001b[0mauthkey\u001b[0m\u001b[0;34m)\u001b[0m\u001b[0;34m\u001b[0m\u001b[0;34m\u001b[0m\u001b[0m\n\u001b[1;32m    495\u001b[0m \u001b[0;34m\u001b[0m\u001b[0m\n",
            "\u001b[0;32m/usr/lib/python3.6/multiprocessing/connection.py\u001b[0m in \u001b[0;36manswer_challenge\u001b[0;34m(connection, authkey)\u001b[0m\n\u001b[1;32m    730\u001b[0m     \u001b[0;32mimport\u001b[0m \u001b[0mhmac\u001b[0m\u001b[0;34m\u001b[0m\u001b[0;34m\u001b[0m\u001b[0m\n\u001b[1;32m    731\u001b[0m     \u001b[0;32massert\u001b[0m \u001b[0misinstance\u001b[0m\u001b[0;34m(\u001b[0m\u001b[0mauthkey\u001b[0m\u001b[0;34m,\u001b[0m \u001b[0mbytes\u001b[0m\u001b[0;34m)\u001b[0m\u001b[0;34m\u001b[0m\u001b[0;34m\u001b[0m\u001b[0m\n\u001b[0;32m--> 732\u001b[0;31m     \u001b[0mmessage\u001b[0m \u001b[0;34m=\u001b[0m \u001b[0mconnection\u001b[0m\u001b[0;34m.\u001b[0m\u001b[0mrecv_bytes\u001b[0m\u001b[0;34m(\u001b[0m\u001b[0;36m256\u001b[0m\u001b[0;34m)\u001b[0m         \u001b[0;31m# reject large message\u001b[0m\u001b[0;34m\u001b[0m\u001b[0;34m\u001b[0m\u001b[0m\n\u001b[0m\u001b[1;32m    733\u001b[0m     \u001b[0;32massert\u001b[0m \u001b[0mmessage\u001b[0m\u001b[0;34m[\u001b[0m\u001b[0;34m:\u001b[0m\u001b[0mlen\u001b[0m\u001b[0;34m(\u001b[0m\u001b[0mCHALLENGE\u001b[0m\u001b[0;34m)\u001b[0m\u001b[0;34m]\u001b[0m \u001b[0;34m==\u001b[0m \u001b[0mCHALLENGE\u001b[0m\u001b[0;34m,\u001b[0m \u001b[0;34m'message = %r'\u001b[0m \u001b[0;34m%\u001b[0m \u001b[0mmessage\u001b[0m\u001b[0;34m\u001b[0m\u001b[0;34m\u001b[0m\u001b[0m\n\u001b[1;32m    734\u001b[0m     \u001b[0mmessage\u001b[0m \u001b[0;34m=\u001b[0m \u001b[0mmessage\u001b[0m\u001b[0;34m[\u001b[0m\u001b[0mlen\u001b[0m\u001b[0;34m(\u001b[0m\u001b[0mCHALLENGE\u001b[0m\u001b[0;34m)\u001b[0m\u001b[0;34m:\u001b[0m\u001b[0;34m]\u001b[0m\u001b[0;34m\u001b[0m\u001b[0;34m\u001b[0m\u001b[0m\n",
            "\u001b[0;32m/usr/lib/python3.6/multiprocessing/connection.py\u001b[0m in \u001b[0;36mrecv_bytes\u001b[0;34m(self, maxlength)\u001b[0m\n\u001b[1;32m    214\u001b[0m         \u001b[0;32mif\u001b[0m \u001b[0mmaxlength\u001b[0m \u001b[0;32mis\u001b[0m \u001b[0;32mnot\u001b[0m \u001b[0;32mNone\u001b[0m \u001b[0;32mand\u001b[0m \u001b[0mmaxlength\u001b[0m \u001b[0;34m<\u001b[0m \u001b[0;36m0\u001b[0m\u001b[0;34m:\u001b[0m\u001b[0;34m\u001b[0m\u001b[0;34m\u001b[0m\u001b[0m\n\u001b[1;32m    215\u001b[0m             \u001b[0;32mraise\u001b[0m \u001b[0mValueError\u001b[0m\u001b[0;34m(\u001b[0m\u001b[0;34m\"negative maxlength\"\u001b[0m\u001b[0;34m)\u001b[0m\u001b[0;34m\u001b[0m\u001b[0;34m\u001b[0m\u001b[0m\n\u001b[0;32m--> 216\u001b[0;31m         \u001b[0mbuf\u001b[0m \u001b[0;34m=\u001b[0m \u001b[0mself\u001b[0m\u001b[0;34m.\u001b[0m\u001b[0m_recv_bytes\u001b[0m\u001b[0;34m(\u001b[0m\u001b[0mmaxlength\u001b[0m\u001b[0;34m)\u001b[0m\u001b[0;34m\u001b[0m\u001b[0;34m\u001b[0m\u001b[0m\n\u001b[0m\u001b[1;32m    217\u001b[0m         \u001b[0;32mif\u001b[0m \u001b[0mbuf\u001b[0m \u001b[0;32mis\u001b[0m \u001b[0;32mNone\u001b[0m\u001b[0;34m:\u001b[0m\u001b[0;34m\u001b[0m\u001b[0;34m\u001b[0m\u001b[0m\n\u001b[1;32m    218\u001b[0m             \u001b[0mself\u001b[0m\u001b[0;34m.\u001b[0m\u001b[0m_bad_message_length\u001b[0m\u001b[0;34m(\u001b[0m\u001b[0;34m)\u001b[0m\u001b[0;34m\u001b[0m\u001b[0;34m\u001b[0m\u001b[0m\n",
            "\u001b[0;32m/usr/lib/python3.6/multiprocessing/connection.py\u001b[0m in \u001b[0;36m_recv_bytes\u001b[0;34m(self, maxsize)\u001b[0m\n\u001b[1;32m    405\u001b[0m \u001b[0;34m\u001b[0m\u001b[0m\n\u001b[1;32m    406\u001b[0m     \u001b[0;32mdef\u001b[0m \u001b[0m_recv_bytes\u001b[0m\u001b[0;34m(\u001b[0m\u001b[0mself\u001b[0m\u001b[0;34m,\u001b[0m \u001b[0mmaxsize\u001b[0m\u001b[0;34m=\u001b[0m\u001b[0;32mNone\u001b[0m\u001b[0;34m)\u001b[0m\u001b[0;34m:\u001b[0m\u001b[0;34m\u001b[0m\u001b[0;34m\u001b[0m\u001b[0m\n\u001b[0;32m--> 407\u001b[0;31m         \u001b[0mbuf\u001b[0m \u001b[0;34m=\u001b[0m \u001b[0mself\u001b[0m\u001b[0;34m.\u001b[0m\u001b[0m_recv\u001b[0m\u001b[0;34m(\u001b[0m\u001b[0;36m4\u001b[0m\u001b[0;34m)\u001b[0m\u001b[0;34m\u001b[0m\u001b[0;34m\u001b[0m\u001b[0m\n\u001b[0m\u001b[1;32m    408\u001b[0m         \u001b[0msize\u001b[0m\u001b[0;34m,\u001b[0m \u001b[0;34m=\u001b[0m \u001b[0mstruct\u001b[0m\u001b[0;34m.\u001b[0m\u001b[0munpack\u001b[0m\u001b[0;34m(\u001b[0m\u001b[0;34m\"!i\"\u001b[0m\u001b[0;34m,\u001b[0m \u001b[0mbuf\u001b[0m\u001b[0;34m.\u001b[0m\u001b[0mgetvalue\u001b[0m\u001b[0;34m(\u001b[0m\u001b[0;34m)\u001b[0m\u001b[0;34m)\u001b[0m\u001b[0;34m\u001b[0m\u001b[0;34m\u001b[0m\u001b[0m\n\u001b[1;32m    409\u001b[0m         \u001b[0;32mif\u001b[0m \u001b[0mmaxsize\u001b[0m \u001b[0;32mis\u001b[0m \u001b[0;32mnot\u001b[0m \u001b[0;32mNone\u001b[0m \u001b[0;32mand\u001b[0m \u001b[0msize\u001b[0m \u001b[0;34m>\u001b[0m \u001b[0mmaxsize\u001b[0m\u001b[0;34m:\u001b[0m\u001b[0;34m\u001b[0m\u001b[0;34m\u001b[0m\u001b[0m\n",
            "\u001b[0;32m/usr/lib/python3.6/multiprocessing/connection.py\u001b[0m in \u001b[0;36m_recv\u001b[0;34m(self, size, read)\u001b[0m\n\u001b[1;32m    377\u001b[0m         \u001b[0mremaining\u001b[0m \u001b[0;34m=\u001b[0m \u001b[0msize\u001b[0m\u001b[0;34m\u001b[0m\u001b[0;34m\u001b[0m\u001b[0m\n\u001b[1;32m    378\u001b[0m         \u001b[0;32mwhile\u001b[0m \u001b[0mremaining\u001b[0m \u001b[0;34m>\u001b[0m \u001b[0;36m0\u001b[0m\u001b[0;34m:\u001b[0m\u001b[0;34m\u001b[0m\u001b[0;34m\u001b[0m\u001b[0m\n\u001b[0;32m--> 379\u001b[0;31m             \u001b[0mchunk\u001b[0m \u001b[0;34m=\u001b[0m \u001b[0mread\u001b[0m\u001b[0;34m(\u001b[0m\u001b[0mhandle\u001b[0m\u001b[0;34m,\u001b[0m \u001b[0mremaining\u001b[0m\u001b[0;34m)\u001b[0m\u001b[0;34m\u001b[0m\u001b[0;34m\u001b[0m\u001b[0m\n\u001b[0m\u001b[1;32m    380\u001b[0m             \u001b[0mn\u001b[0m \u001b[0;34m=\u001b[0m \u001b[0mlen\u001b[0m\u001b[0;34m(\u001b[0m\u001b[0mchunk\u001b[0m\u001b[0;34m)\u001b[0m\u001b[0;34m\u001b[0m\u001b[0;34m\u001b[0m\u001b[0m\n\u001b[1;32m    381\u001b[0m             \u001b[0;32mif\u001b[0m \u001b[0mn\u001b[0m \u001b[0;34m==\u001b[0m \u001b[0;36m0\u001b[0m\u001b[0;34m:\u001b[0m\u001b[0;34m\u001b[0m\u001b[0;34m\u001b[0m\u001b[0m\n",
            "\u001b[0;31mKeyboardInterrupt\u001b[0m: "
          ]
        }
      ]
    },
    {
      "cell_type": "code",
      "metadata": {
        "id": "AzUJdqboj6UT"
      },
      "source": [
        " correct = (predictions == ground_truth).sum()\n",
        " accuracy = correct / datalen\n",
        " print(\"accuracy: %.2f %% \\n\" % (accuracy * 100))"
      ],
      "execution_count": null,
      "outputs": []
    },
    {
      "cell_type": "code",
      "metadata": {
        "id": "eGzfLqkLj7Og"
      },
      "source": [
        "import seaborn as sns"
      ],
      "execution_count": null,
      "outputs": []
    },
    {
      "cell_type": "code",
      "metadata": {
        "id": "CMCVHjUoj9sA"
      },
      "source": [
        "confmat = np.zeros((classlen, classlen), dtype = np.int_)\n",
        "predictions_np = np.asarray(predictions)\n",
        "gound_truth_np = np.asarray(gound_truth)\n",
        "\n",
        "for i, j in range(datalen):\n",
        "  pred = predictions_np[i]\n",
        "  gr_t = ground_truth_np[i]\n",
        "  confmat[pred, gr_t] += 1"
      ],
      "execution_count": null,
      "outputs": []
    },
    {
      "cell_type": "code",
      "metadata": {
        "id": "7ZFINVvMkBg-"
      },
      "source": [
        "fig, ax = plt.subplots(1, 1, figsize = (25, 25))\n",
        "ax = sns.heatmap(confmat, annot=True, cmap='coolwarm_r', ax=ax, cbar=True)\n",
        "ax.set_xlabel('ground truth')\n",
        "ax.set_ylabel('predictions')\n",
        "ax.set_xticklabels(classes)\n",
        "ax.set_yticklabels(classes)"
      ],
      "execution_count": null,
      "outputs": []
    },
    {
      "cell_type": "code",
      "metadata": {
        "id": "p171qTP3kEH9"
      },
      "source": [
        "import itertools"
      ],
      "execution_count": null,
      "outputs": []
    },
    {
      "cell_type": "code",
      "metadata": {
        "id": "EbUd8RZTkGwd"
      },
      "source": [
        "class_correct = 0\n",
        "class_total = 0\n",
        "print(\"Most confused classes\")\n",
        "for i, j in itertools.product(range(classlen), range(classlen)):\n",
        "  \n",
        "  if (confmat[i, j] >= 1000) and (i != j):\n",
        "    for k in range(datalen):\n",
        "      if predictions[k] == j:\n",
        "        class_correct += 1\n",
        "      if ground_truth[k] == j:\n",
        "        class_total += 1\n",
        "    class_acc = class_correct / class_total            \n",
        "\n",
        "    print('class \\'%s\\' confused with class \\'%s\\', accuracy in class \\'%s\\': %.2f %%' % (classes[j], classes[i], classes[j], class_acc * 100))"
      ],
      "execution_count": null,
      "outputs": []
    },
    {
      "cell_type": "markdown",
      "metadata": {
        "id": "UfleeuDQHeL3"
      },
      "source": [
        "## Net kernels visualizaion(1st layer)"
      ]
    },
    {
      "cell_type": "code",
      "metadata": {
        "colab": {
          "base_uri": "https://localhost:8080/",
          "height": 682
        },
        "id": "lP9U6FwEHb4R",
        "outputId": "ada20a5c-97eb-4770-a883-03f18025b980"
      },
      "source": [
        "weight = net.conv1.weight.data.numpy()\n",
        "\n",
        "\n",
        "fig, axes = plt.subplots(2, 4, figsize = [15, 10])\n",
        "axes[0,0].imshow(weight[0, ...])\n",
        "axes[0,1].imshow(weight[1, ...])\n",
        "axes[0,2].imshow(weight[2, ...])\n",
        "axes[0,3].imshow(weight[3, ...])\n",
        "axes[1,0].imshow(weight[4, ...])\n",
        "axes[1,1].imshow(weight[5, ...])\n",
        "axes[1,2].imshow(weight[6, ...])\n",
        "axes[1,3].imshow(weight[7, ...])"
      ],
      "execution_count": null,
      "outputs": [
        {
          "output_type": "stream",
          "text": [
            "Clipping input data to the valid range for imshow with RGB data ([0..1] for floats or [0..255] for integers).\n",
            "Clipping input data to the valid range for imshow with RGB data ([0..1] for floats or [0..255] for integers).\n",
            "Clipping input data to the valid range for imshow with RGB data ([0..1] for floats or [0..255] for integers).\n",
            "Clipping input data to the valid range for imshow with RGB data ([0..1] for floats or [0..255] for integers).\n",
            "Clipping input data to the valid range for imshow with RGB data ([0..1] for floats or [0..255] for integers).\n",
            "Clipping input data to the valid range for imshow with RGB data ([0..1] for floats or [0..255] for integers).\n",
            "Clipping input data to the valid range for imshow with RGB data ([0..1] for floats or [0..255] for integers).\n",
            "Clipping input data to the valid range for imshow with RGB data ([0..1] for floats or [0..255] for integers).\n"
          ],
          "name": "stderr"
        },
        {
          "output_type": "execute_result",
          "data": {
            "text/plain": [
              "<matplotlib.image.AxesImage at 0x7f2a6082db00>"
            ]
          },
          "metadata": {
            "tags": []
          },
          "execution_count": 80
        },
        {
          "output_type": "display_data",
          "data": {
            "image/png": "[encoded data removed]",
            "text/plain": [
              "<Figure size 1080x720 with 8 Axes>"
            ]
          },
          "metadata": {
            "tags": [],
            "needs_background": "light"
          }
        }
      ]
    },
    {
      "cell_type": "markdown",
      "metadata": {
        "id": "oDw6oO3gljpU"
      },
      "source": [
        "## Tuning\n",
        "\n",
        "version-batchsize-epochnum-lr-error\n",
        "\n",
        "1-64-20-0.0005-2.11%"
      ]
    }
  ]
}