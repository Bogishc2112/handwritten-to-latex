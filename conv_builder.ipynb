{
  "nbformat": 4,
  "nbformat_minor": 0,
  "metadata": {
    "colab": {
      "name": "conv builder",
      "provenance": [],
      "collapsed_sections": []
    },
    "kernelspec": {
      "name": "python3",
      "display_name": "Python 3"
    }
  },
  "cells": [
    {
      "cell_type": "code",
      "metadata": {
        "id": "9By8cfTUl03n",
        "outputId": "2c4ce599-d317-4d0d-a87c-94126351ae99",
        "colab": {
          "base_uri": "https://localhost:8080/"
        }
      },
      "source": [
        "import numpy as np\n",
        "# the size is the size of the image, assign the value you need it to be for your case\n",
        "size = np.random.randint(8, 100)\n",
        "# the class_num is number of classes, assign the value you need it to be for your case\n",
        "class_num = np.random.randint(2, 20)\n",
        "list = [int(x) for x in bin(size)[2:]]\n",
        "conv_num = 1\n",
        "pool_num = 1\n",
        "fc_num = 1\n",
        "n = 3\n",
        "input = 3\n",
        "print('image size %dx%d, number of classes %d' % (size, size, class_num))\n",
        "while (len(list) > 3):\n",
        "  print('current size of the tensor %dx%d, %d channels' % (size,size, input))\n",
        "  print('conv layer %d: kernel 3x3, padding 0, stride 1, input channels %d, output channels %d' % (conv_num, input, 2 ** n))\n",
        "  conv_num += 1\n",
        "  size -= 2\n",
        "  input = 2 ** n\n",
        "  n += 1\n",
        "  print('current size of the tensor %dx%d, %d channels' % (size,size, input))\n",
        "  print('pooling layer %d: kernel 2x2, padding %d, stride 2, input channels %d, output channels %d' % (pool_num, list[-1], input, input))\n",
        "  pool_num += 1\n",
        "  size = (size + list[-1]) // 2\n",
        "  list = [int(x) for x in bin(size)[2:]]\n",
        "print('current size of the tensor %dx%d, %d channels' % (size,size, input))\n",
        "print('conv layer %d: kernel %dx%d, padding 0, stride 1, input channels %d, output channels %d' % (conv_num, size, size, input, input * 4))\n",
        "input = input * 4\n",
        "print('current size of the tensor 1x1, %d channels' % (input))\n",
        "print('converting to pass to a series of fully connected layers')\n",
        "while (input > (class_num * 4)):\n",
        "  print('current size of the tensor 1x%d' % (input))\n",
        "  print('fully connected layer %d: input size %d, output size %d' % (fc_num, input, input // 4))\n",
        "  fc_num += 1\n",
        "  input = input // 4\n",
        "print('current size of the tensor 1x%d' % (input))\n",
        "print('fully connected layer %d: input size %d, output size %d' % (fc_num, input, class_num))\n",
        "print('current size of the tensor 1x%d' % (class_num))"
      ],
      "execution_count": null,
      "outputs": [
        {
          "output_type": "stream",
          "text": [
            "image size 86x86, number of classes 17\n",
            "current size of the tensor 86x86, 3 channels\n",
            "conv layer 1: kernel 3x3, padding 0, stride 1, input channels 3, output channels 8\n",
            "current size of the tensor 84x84, 8 channels\n",
            "pooling layer 1: kernel 2x2, padding 0, stride 2, input channels 8, output channels 8\n",
            "current size of the tensor 42x42, 8 channels\n",
            "conv layer 2: kernel 3x3, padding 0, stride 1, input channels 8, output channels 16\n",
            "current size of the tensor 40x40, 16 channels\n",
            "pooling layer 2: kernel 2x2, padding 0, stride 2, input channels 16, output channels 16\n",
            "current size of the tensor 20x20, 16 channels\n",
            "conv layer 3: kernel 3x3, padding 0, stride 1, input channels 16, output channels 32\n",
            "current size of the tensor 18x18, 32 channels\n",
            "pooling layer 3: kernel 2x2, padding 0, stride 2, input channels 32, output channels 32\n",
            "current size of the tensor 9x9, 32 channels\n",
            "conv layer 4: kernel 3x3, padding 0, stride 1, input channels 32, output channels 64\n",
            "current size of the tensor 7x7, 64 channels\n",
            "pooling layer 4: kernel 2x2, padding 1, stride 2, input channels 64, output channels 64\n",
            "current size of the tensor 4x4, 64 channels\n",
            "conv layer 5: kernel 4x4, padding 0, stride 1, input channels 64, output channels 256\n",
            "current size of the tensor 1x1, 256 channels\n",
            "converting to pass to a series of fully connected layers\n",
            "current size of the tensor 1x256\n",
            "fully connected layer 1: input size 256, output size 64\n",
            "current size of the tensor 1x64\n",
            "fully connected layer 2: input size 64, output size 17\n",
            "current size of the tensor 1x17\n"
          ],
          "name": "stdout"
        }
      ]
    }
  ]
}